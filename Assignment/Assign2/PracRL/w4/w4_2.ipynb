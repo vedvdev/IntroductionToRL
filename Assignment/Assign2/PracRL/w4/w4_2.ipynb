{
  "nbformat": 4,
  "nbformat_minor": 0,
  "metadata": {
    "colab": {
      "name": "w4.2.ipynb",
      "provenance": [],
      "collapsed_sections": []
    },
    "kernelspec": {
      "display_name": "Python 3",
      "language": "python",
      "name": "python3"
    },
    "language_info": {
      "codemirror_mode": {
        "name": "ipython",
        "version": 3
      },
      "file_extension": ".py",
      "mimetype": "text/x-python",
      "name": "python",
      "nbconvert_exporter": "python",
      "pygments_lexer": "ipython3",
      "version": "3.9.1"
    }
  },
  "cells": [
    {
      "cell_type": "markdown",
      "metadata": {
        "id": "YxUMtllhRrA4"
      },
      "source": [
        "# Approximate q-learning\n",
        "\n",
        "In this notebook you will teach a __PyTorch__ neural network to do Q-learning."
      ]
    },
    {
      "cell_type": "code",
      "metadata": {
        "colab": {
          "base_uri": "https://localhost:8080/"
        },
        "id": "G2zA6lw1RrA7",
        "outputId": "0468b422-cc73-4a42-d244-69a21f6c6e2e"
      },
      "source": [
        "import sys, os\n",
        "if 'google.colab' in sys.modules and not os.path.exists('.setup_complete'):\n",
        "    !wget -q https://raw.githubusercontent.com/yandexdataschool/Practical_RL/master/setup_colab.sh -O- | bash\n",
        "\n",
        "    !wget -q https://raw.githubusercontent.com/yandexdataschool/Practical_RL/coursera/grading.py -O ../grading.py\n",
        "    !wget -q https://raw.githubusercontent.com/yandexdataschool/Practical_RL/coursera/week4_approx/submit.py\n",
        "\n",
        "    !touch .setup_complete\n",
        "\n",
        "# This code creates a virtual display to draw game images on.\n",
        "# It will have no effect if your machine has a monitor.\n",
        "if type(os.environ.get(\"DISPLAY\")) is not str or len(os.environ.get(\"DISPLAY\")) == 0:\n",
        "    !bash ../xvfb start\n",
        "    os.environ['DISPLAY'] = ':1'"
      ],
      "execution_count": 1,
      "outputs": [
        {
          "output_type": "stream",
          "text": [
            "Selecting previously unselected package xvfb.\n",
            "(Reading database ... 160772 files and directories currently installed.)\n",
            "Preparing to unpack .../xvfb_2%3a1.19.6-1ubuntu4.9_amd64.deb ...\n",
            "Unpacking xvfb (2:1.19.6-1ubuntu4.9) ...\n",
            "Setting up xvfb (2:1.19.6-1ubuntu4.9) ...\n",
            "Processing triggers for man-db (2.8.3-2ubuntu0.1) ...\n",
            "Starting virtual X frame buffer: Xvfb.\n"
          ],
          "name": "stdout"
        }
      ]
    },
    {
      "cell_type": "code",
      "metadata": {
        "id": "Au_ojSJ6RrA7"
      },
      "source": [
        "import gym\n",
        "import numpy as np\n",
        "import pandas as pd\n",
        "import matplotlib.pyplot as plt\n",
        "%matplotlib inline"
      ],
      "execution_count": 2,
      "outputs": []
    },
    {
      "cell_type": "code",
      "metadata": {
        "colab": {
          "base_uri": "https://localhost:8080/",
          "height": 269
        },
        "id": "c3vPiAPlRrA8",
        "outputId": "09d95298-945b-4b0f-d6b8-72076cee4a17"
      },
      "source": [
        "env = gym.make(\"CartPole-v0\").env\n",
        "env.reset()\n",
        "n_actions = env.action_space.n\n",
        "state_dim = env.observation_space.shape\n",
        "\n",
        "plt.imshow(env.render(\"rgb_array\"))\n",
        "env.close()"
      ],
      "execution_count": 3,
      "outputs": [
        {
          "output_type": "display_data",
          "data": {
            "image/png": "[encoded data removed]",
            "text/plain": [
              "<Figure size 432x288 with 1 Axes>"
            ]
          },
          "metadata": {
            "tags": [],
            "needs_background": "light"
          }
        }
      ]
    },
    {
      "cell_type": "markdown",
      "metadata": {
        "id": "HqQVf1qRRrA8"
      },
      "source": [
        "# Approximate Q-learning: building the network\n",
        "\n",
        "To train a neural network policy one must have a neural network policy. Let's build it.\n",
        "\n",
        "\n",
        "Since we're working with a pre-extracted features (cart positions, angles and velocities), we don't need a complicated network yet. In fact, let's build something like this for starters:\n",
        "\n",
        "![img](https://raw.githubusercontent.com/yandexdataschool/Practical_RL/master/yet_another_week/_resource/qlearning_scheme.png)\n",
        "\n",
        "For your first run, please only use linear layers (`nn.Linear`) and activations. Stuff like batch normalization or dropout may ruin everything if used haphazardly. \n",
        "\n",
        "Also please avoid using nonlinearities like sigmoid & tanh: since agent's observations are not normalized, sigmoids might be saturated at initialization. Instead, use non-saturating nonlinearities like ReLU.\n",
        "\n",
        "Ideally you should start small with maybe 1-2 hidden layers with < 200 neurons and then increase network size if agent doesn't beat the target score."
      ]
    },
    {
      "cell_type": "code",
      "metadata": {
        "id": "---fQLZBRrA9"
      },
      "source": [
        "import torch\n",
        "import torch.nn as nn\n",
        "import torch.nn.functional as F\n",
        "import random"
      ],
      "execution_count": 4,
      "outputs": []
    },
    {
      "cell_type": "code",
      "metadata": {
        "id": "W7PcWvUgRrA9"
      },
      "source": [
        "network = nn.Sequential()\n",
        "\n",
        "network.add_module('layer1', nn.Linear(state_dim[0], 169))\n",
        "network.add_module('layer2', nn.ReLU())\n",
        "network.add_module('layer3', nn.Linear(169, n_actions))\n",
        "#network.add_module('layer4', nn.ReLU())\n",
        "\n",
        "#<YOUR CODE: stack layers!!!1>\n",
        "\n",
        "# hint: use state_dim[0] as input size"
      ],
      "execution_count": 5,
      "outputs": []
    },
    {
      "cell_type": "code",
      "metadata": {
        "id": "VtIMeucURrA9"
      },
      "source": [
        "def get_action(state, epsilon=0):\n",
        "    \"\"\"\n",
        "    sample actions with epsilon-greedy policy\n",
        "    recap: with p = epsilon pick random action, else pick action with highest Q(s,a)\n",
        "    \"\"\"\n",
        "    state = torch.tensor(state[None], dtype=torch.float32)\n",
        "    q_values = network(state).detach().numpy()\n",
        "\n",
        "    p = random.uniform(0, 1)\n",
        "    if(p > epsilon) :\n",
        "      return int(np.argmax(q_values))\n",
        "    else :\n",
        "      return int(np.random.randint(0, n_actions))"
      ],
      "execution_count": 6,
      "outputs": []
    },
    {
      "cell_type": "code",
      "metadata": {
        "colab": {
          "base_uri": "https://localhost:8080/"
        },
        "id": "xxYygUOERrA-",
        "outputId": "0661086c-cbed-44a2-9b05-8d02f5c8bfd6"
      },
      "source": [
        "s = env.reset()\n",
        "assert tuple(network(torch.tensor([s]*3, dtype=torch.float32)).size()) == (\n",
        "    3, n_actions), \"please make sure your model maps state s -> [Q(s,a0), ..., Q(s, a_last)]\"\n",
        "assert isinstance(list(network.modules(\n",
        "))[-1], nn.Linear), \"please make sure you predict q-values without nonlinearity (ignore if you know what you're doing)\"\n",
        "assert isinstance(get_action(\n",
        "    s), int), \"get_action(s) must return int, not %s. try int(action)\" % (type(get_action(s)))\n",
        "\n",
        "# test epsilon-greedy exploration\n",
        "for eps in [0., 0.1, 0.5, 1.0]:\n",
        "    state_frequencies = np.bincount(\n",
        "        [get_action(s, epsilon=eps) for i in range(10000)], minlength=n_actions)\n",
        "    best_action = state_frequencies.argmax()\n",
        "    assert abs(state_frequencies[best_action] -\n",
        "               10000 * (1 - eps + eps / n_actions)) < 200\n",
        "    for other_action in range(n_actions):\n",
        "        if other_action != best_action:\n",
        "            assert abs(state_frequencies[other_action] -\n",
        "                       10000 * (eps / n_actions)) < 200\n",
        "    print('e=%.1f tests passed' % eps)"
      ],
      "execution_count": 7,
      "outputs": [
        {
          "output_type": "stream",
          "text": [
            "e=0.0 tests passed\n",
            "e=0.1 tests passed\n",
            "e=0.5 tests passed\n",
            "e=1.0 tests passed\n"
          ],
          "name": "stdout"
        }
      ]
    },
    {
      "cell_type": "markdown",
      "metadata": {
        "id": "kgwdmpXvRrA-"
      },
      "source": [
        "### Q-learning via gradient descent\n",
        "\n",
        "We shall now train our agent's Q-function by minimizing the TD loss:\n",
        "$$ L = { 1 \\over N} \\sum_i (Q_{\\theta}(s,a) - [r(s,a) + \\gamma \\cdot max_{a'} Q_{-}(s', a')]) ^2 $$\n",
        "\n",
        "\n",
        "Where\n",
        "* $s, a, r, s'$ are current state, action, reward and next state respectively\n",
        "* $\\gamma$ is a discount factor defined two cells above.\n",
        "\n",
        "The tricky part is with  $Q_{-}(s',a')$. From an engineering standpoint, it's the same as $Q_{\\theta}$ - the output of your neural network policy. However, when doing gradient descent, __we won't propagate gradients through it__ to make training more stable (see lectures).\n",
        "\n",
        "To do so, we shall use `x.detach()` function which basically says \"consider this thing constant when doingbackprop\"."
      ]
    },
    {
      "cell_type": "code",
      "metadata": {
        "id": "FeVEbF6lRrA-"
      },
      "source": [
        "def compute_td_loss(states, actions, rewards, next_states, is_done, gamma=0.99, check_shapes=False):\n",
        "    \"\"\" Compute td loss using torch operations only. Use the formula above. \"\"\"\n",
        "    states = torch.tensor(\n",
        "        states, dtype=torch.float32)    # shape: [batch_size, state_size]\n",
        "    actions = torch.tensor(actions, dtype=torch.long)    # shape: [batch_size]\n",
        "    rewards = torch.tensor(rewards, dtype=torch.float32)  # shape: [batch_size]\n",
        "    # shape: [batch_size, state_size]\n",
        "    next_states = torch.tensor(next_states, dtype=torch.float32)\n",
        "    is_done = torch.tensor(is_done, dtype=torch.uint8)  # shape: [batch_size]\n",
        "\n",
        "    # get q-values for all actions in current states\n",
        "    predicted_qvalues = network(states)\n",
        "    # select q-values for chosen actions\n",
        "    predicted_qvalues_for_actions = predicted_qvalues[\n",
        "      range(states.shape[0]), actions\n",
        "    ]\n",
        "\n",
        "    # compute q-values for all actions in next states\n",
        "    predicted_next_qvalues = network(next_states)\n",
        "\n",
        "    # compute V*(next_states) using predicted next q-values\n",
        "    #print(predicted_next_qvalues)\n",
        "    next_state_values, indices = torch.max(predicted_next_qvalues, axis = -1)\n",
        "    assert next_state_values.dtype == torch.float32\n",
        "    \n",
        "    # compute \"target q-values\" for loss - it's what's inside square parentheses in the above formula.\n",
        "    target_qvalues_for_actions = rewards + gamma*next_state_values\n",
        "\n",
        "    # at the last state we shall use simplified formula: Q(s,a) = r(s,a) since s' doesn't exist\n",
        "    target_qvalues_for_actions = torch.where(\n",
        "        is_done, rewards, target_qvalues_for_actions)\n",
        "\n",
        "    # mean squared error loss to minimize\n",
        "    loss = torch.mean((predicted_qvalues_for_actions -\n",
        "                       target_qvalues_for_actions.detach()) ** 2)\n",
        "\n",
        "    if check_shapes:\n",
        "        assert predicted_next_qvalues.data.dim(\n",
        "        ) == 2, \"make sure you predicted q-values for all actions in next state\"\n",
        "        assert next_state_values.data.dim(\n",
        "        ) == 1, \"make sure you computed V(s') as maximum over just the actions axis and not all axes\"\n",
        "        assert target_qvalues_for_actions.data.dim(\n",
        "        ) == 1, \"there's something wrong with target q-values, they must be a vector\"\n",
        "\n",
        "    return loss"
      ],
      "execution_count": 8,
      "outputs": []
    },
    {
      "cell_type": "code",
      "metadata": {
        "id": "fjNeYG2WRrA_",
        "colab": {
          "base_uri": "https://localhost:8080/"
        },
        "outputId": "735ce1d6-d4a4-4694-d347-f51f480dc2b5"
      },
      "source": [
        "# sanity checks\n",
        "s = env.reset()\n",
        "a = env.action_space.sample()\n",
        "next_s, r, done, _ = env.step(a)\n",
        "loss = compute_td_loss([s], [a], [r], [next_s], [done], check_shapes=True)\n",
        "loss.backward()\n",
        "\n",
        "assert len(loss.size()) == 0, \"you must return scalar loss - mean over batch\"\n",
        "assert np.any(next(network.parameters()).grad.detach().numpy() !=\n",
        "              0), \"loss must be differentiable w.r.t. network weights\""
      ],
      "execution_count": 9,
      "outputs": [
        {
          "output_type": "stream",
          "text": [
            "/usr/local/lib/python3.7/dist-packages/ipykernel_launcher.py:31: UserWarning: where received a uint8 condition tensor. This behavior is deprecated and will be removed in a future version of PyTorch. Use a boolean condition instead. (Triggered internally at  /pytorch/aten/src/ATen/native/TensorCompare.cpp:255.)\n"
          ],
          "name": "stderr"
        }
      ]
    },
    {
      "cell_type": "markdown",
      "metadata": {
        "id": "Yh2DCMIwRrBA"
      },
      "source": [
        "### Playing the game"
      ]
    },
    {
      "cell_type": "code",
      "metadata": {
        "id": "s8dFmdPvRrBA"
      },
      "source": [
        "opt = torch.optim.Adam(network.parameters(), lr=1e-4)"
      ],
      "execution_count": 10,
      "outputs": []
    },
    {
      "cell_type": "code",
      "metadata": {
        "id": "bUHPcWD_RrBA"
      },
      "source": [
        "def generate_session(env, t_max=1000, epsilon=0, train=False):\n",
        "    \"\"\"play env with approximate q-learning agent and train it at the same time\"\"\"\n",
        "    total_reward = 0\n",
        "    s = env.reset()\n",
        "\n",
        "    for t in range(t_max):\n",
        "        a = get_action(s, epsilon=epsilon)\n",
        "        next_s, r, done, _ = env.step(a)\n",
        "\n",
        "        if train:\n",
        "            opt.zero_grad()\n",
        "            compute_td_loss([s], [a], [r], [next_s], [done]).backward()\n",
        "            opt.step()\n",
        "\n",
        "        total_reward += r\n",
        "        s = next_s\n",
        "        if done:\n",
        "            break\n",
        "\n",
        "    return total_reward"
      ],
      "execution_count": 11,
      "outputs": []
    },
    {
      "cell_type": "code",
      "metadata": {
        "id": "xkrR5s7URrBA"
      },
      "source": [
        "epsilon = 0.5"
      ],
      "execution_count": 12,
      "outputs": []
    },
    {
      "cell_type": "code",
      "metadata": {
        "colab": {
          "base_uri": "https://localhost:8080/"
        },
        "id": "D59Im8WZRrBA",
        "outputId": "929834d3-9978-4cbd-8c8d-b0bfc7ad53d7"
      },
      "source": [
        "for i in range(1000):\n",
        "    session_rewards = [generate_session(env, epsilon=epsilon, train=True) for _ in range(100)]\n",
        "    print(\"epoch #{}\\tmean reward = {:.3f}\\tepsilon = {:.3f}\".format(i, np.mean(session_rewards), epsilon))\n",
        "\n",
        "    epsilon *= 0.99\n",
        "    assert epsilon >= 1e-4, \"Make sure epsilon is always nonzero during training\"\n",
        "\n",
        "    if np.mean(session_rewards) > 300:\n",
        "        print(\"You Win!\")\n",
        "        break"
      ],
      "execution_count": 13,
      "outputs": [
        {
          "output_type": "stream",
          "text": [
            "epoch #0\tmean reward = 14.210\tepsilon = 0.500\n",
            "epoch #1\tmean reward = 14.050\tepsilon = 0.495\n",
            "epoch #2\tmean reward = 13.840\tepsilon = 0.490\n",
            "epoch #3\tmean reward = 14.090\tepsilon = 0.485\n",
            "epoch #4\tmean reward = 13.990\tepsilon = 0.480\n",
            "epoch #5\tmean reward = 17.140\tepsilon = 0.475\n",
            "epoch #6\tmean reward = 13.300\tepsilon = 0.471\n",
            "epoch #7\tmean reward = 13.040\tepsilon = 0.466\n",
            "epoch #8\tmean reward = 13.120\tepsilon = 0.461\n",
            "epoch #9\tmean reward = 14.800\tepsilon = 0.457\n",
            "epoch #10\tmean reward = 12.840\tepsilon = 0.452\n",
            "epoch #11\tmean reward = 12.520\tepsilon = 0.448\n",
            "epoch #12\tmean reward = 12.190\tepsilon = 0.443\n",
            "epoch #13\tmean reward = 14.850\tepsilon = 0.439\n",
            "epoch #14\tmean reward = 16.420\tepsilon = 0.434\n",
            "epoch #15\tmean reward = 12.800\tepsilon = 0.430\n",
            "epoch #16\tmean reward = 15.070\tepsilon = 0.426\n",
            "epoch #17\tmean reward = 13.970\tepsilon = 0.421\n",
            "epoch #18\tmean reward = 16.520\tepsilon = 0.417\n",
            "epoch #19\tmean reward = 13.080\tepsilon = 0.413\n",
            "epoch #20\tmean reward = 17.960\tepsilon = 0.409\n",
            "epoch #21\tmean reward = 27.000\tepsilon = 0.405\n",
            "epoch #22\tmean reward = 21.470\tepsilon = 0.401\n",
            "epoch #23\tmean reward = 37.260\tepsilon = 0.397\n",
            "epoch #24\tmean reward = 33.860\tepsilon = 0.393\n",
            "epoch #25\tmean reward = 34.080\tepsilon = 0.389\n",
            "epoch #26\tmean reward = 33.030\tepsilon = 0.385\n",
            "epoch #27\tmean reward = 37.350\tepsilon = 0.381\n",
            "epoch #28\tmean reward = 42.400\tepsilon = 0.377\n",
            "epoch #29\tmean reward = 38.400\tepsilon = 0.374\n",
            "epoch #30\tmean reward = 40.050\tepsilon = 0.370\n",
            "epoch #31\tmean reward = 40.380\tepsilon = 0.366\n",
            "epoch #32\tmean reward = 46.860\tepsilon = 0.362\n",
            "epoch #33\tmean reward = 49.620\tepsilon = 0.359\n",
            "epoch #34\tmean reward = 49.700\tepsilon = 0.355\n",
            "epoch #35\tmean reward = 49.310\tepsilon = 0.352\n",
            "epoch #36\tmean reward = 56.480\tepsilon = 0.348\n",
            "epoch #37\tmean reward = 55.220\tepsilon = 0.345\n",
            "epoch #38\tmean reward = 61.880\tepsilon = 0.341\n",
            "epoch #39\tmean reward = 65.850\tepsilon = 0.338\n",
            "epoch #40\tmean reward = 137.060\tepsilon = 0.334\n",
            "epoch #41\tmean reward = 132.810\tepsilon = 0.331\n",
            "epoch #42\tmean reward = 79.230\tepsilon = 0.328\n",
            "epoch #43\tmean reward = 78.670\tepsilon = 0.325\n",
            "epoch #44\tmean reward = 145.900\tepsilon = 0.321\n",
            "epoch #45\tmean reward = 183.550\tepsilon = 0.318\n",
            "epoch #46\tmean reward = 163.080\tepsilon = 0.315\n",
            "epoch #47\tmean reward = 143.960\tepsilon = 0.312\n",
            "epoch #48\tmean reward = 191.210\tepsilon = 0.309\n",
            "epoch #49\tmean reward = 14.110\tepsilon = 0.306\n",
            "epoch #50\tmean reward = 46.300\tepsilon = 0.303\n",
            "epoch #51\tmean reward = 29.010\tepsilon = 0.299\n",
            "epoch #52\tmean reward = 120.620\tepsilon = 0.296\n",
            "epoch #53\tmean reward = 127.880\tepsilon = 0.294\n",
            "epoch #54\tmean reward = 60.660\tepsilon = 0.291\n",
            "epoch #55\tmean reward = 90.710\tepsilon = 0.288\n",
            "epoch #56\tmean reward = 150.880\tepsilon = 0.285\n",
            "epoch #57\tmean reward = 14.860\tepsilon = 0.282\n",
            "epoch #58\tmean reward = 106.460\tepsilon = 0.279\n",
            "epoch #59\tmean reward = 160.180\tepsilon = 0.276\n",
            "epoch #60\tmean reward = 81.100\tepsilon = 0.274\n",
            "epoch #61\tmean reward = 179.320\tepsilon = 0.271\n",
            "epoch #62\tmean reward = 136.140\tepsilon = 0.268\n",
            "epoch #63\tmean reward = 122.690\tepsilon = 0.265\n",
            "epoch #64\tmean reward = 145.480\tepsilon = 0.263\n",
            "epoch #65\tmean reward = 159.060\tepsilon = 0.260\n",
            "epoch #66\tmean reward = 183.410\tepsilon = 0.258\n",
            "epoch #67\tmean reward = 109.210\tepsilon = 0.255\n",
            "epoch #68\tmean reward = 73.560\tepsilon = 0.252\n",
            "epoch #69\tmean reward = 124.560\tepsilon = 0.250\n",
            "epoch #70\tmean reward = 36.990\tepsilon = 0.247\n",
            "epoch #71\tmean reward = 102.800\tepsilon = 0.245\n",
            "epoch #72\tmean reward = 69.140\tepsilon = 0.242\n",
            "epoch #73\tmean reward = 46.890\tepsilon = 0.240\n",
            "epoch #74\tmean reward = 43.700\tepsilon = 0.238\n",
            "epoch #75\tmean reward = 48.770\tepsilon = 0.235\n",
            "epoch #76\tmean reward = 56.340\tepsilon = 0.233\n",
            "epoch #77\tmean reward = 52.510\tepsilon = 0.231\n",
            "epoch #78\tmean reward = 67.180\tepsilon = 0.228\n",
            "epoch #79\tmean reward = 95.370\tepsilon = 0.226\n",
            "epoch #80\tmean reward = 108.280\tepsilon = 0.224\n",
            "epoch #81\tmean reward = 96.800\tepsilon = 0.222\n",
            "epoch #82\tmean reward = 187.980\tepsilon = 0.219\n",
            "epoch #83\tmean reward = 116.300\tepsilon = 0.217\n",
            "epoch #84\tmean reward = 198.830\tepsilon = 0.215\n",
            "epoch #85\tmean reward = 136.900\tepsilon = 0.213\n",
            "epoch #86\tmean reward = 203.450\tepsilon = 0.211\n",
            "epoch #87\tmean reward = 91.110\tepsilon = 0.209\n",
            "epoch #88\tmean reward = 265.210\tepsilon = 0.206\n",
            "epoch #89\tmean reward = 18.200\tepsilon = 0.204\n",
            "epoch #90\tmean reward = 139.100\tepsilon = 0.202\n",
            "epoch #91\tmean reward = 138.030\tepsilon = 0.200\n",
            "epoch #92\tmean reward = 118.260\tepsilon = 0.198\n",
            "epoch #93\tmean reward = 238.730\tepsilon = 0.196\n",
            "epoch #94\tmean reward = 92.940\tepsilon = 0.194\n",
            "epoch #95\tmean reward = 193.970\tepsilon = 0.192\n",
            "epoch #96\tmean reward = 110.540\tepsilon = 0.191\n",
            "epoch #97\tmean reward = 66.790\tepsilon = 0.189\n",
            "epoch #98\tmean reward = 66.060\tepsilon = 0.187\n",
            "epoch #99\tmean reward = 151.860\tepsilon = 0.185\n",
            "epoch #100\tmean reward = 146.440\tepsilon = 0.183\n",
            "epoch #101\tmean reward = 161.800\tepsilon = 0.181\n",
            "epoch #102\tmean reward = 205.840\tepsilon = 0.179\n",
            "epoch #103\tmean reward = 15.750\tepsilon = 0.178\n",
            "epoch #104\tmean reward = 59.360\tepsilon = 0.176\n",
            "epoch #105\tmean reward = 92.720\tepsilon = 0.174\n",
            "epoch #106\tmean reward = 66.990\tepsilon = 0.172\n",
            "epoch #107\tmean reward = 85.800\tepsilon = 0.171\n",
            "epoch #108\tmean reward = 124.290\tepsilon = 0.169\n",
            "epoch #109\tmean reward = 102.660\tepsilon = 0.167\n",
            "epoch #110\tmean reward = 121.990\tepsilon = 0.166\n",
            "epoch #111\tmean reward = 130.550\tepsilon = 0.164\n",
            "epoch #112\tmean reward = 179.970\tepsilon = 0.162\n",
            "epoch #113\tmean reward = 163.810\tepsilon = 0.161\n",
            "epoch #114\tmean reward = 191.180\tepsilon = 0.159\n",
            "epoch #115\tmean reward = 200.190\tepsilon = 0.157\n",
            "epoch #116\tmean reward = 234.420\tepsilon = 0.156\n",
            "epoch #117\tmean reward = 308.950\tepsilon = 0.154\n",
            "You Win!\n"
          ],
          "name": "stdout"
        }
      ]
    },
    {
      "cell_type": "markdown",
      "metadata": {
        "id": "MxEkGSngRrBB"
      },
      "source": [
        "### How to interpret results\n",
        "\n",
        "\n",
        "Welcome to the f.. world of deep f...n reinforcement learning. Don't expect agent's reward to smoothly go up. Hope for it to go increase eventually. If it deems you worthy.\n",
        "\n",
        "Seriously though,\n",
        "* __ mean reward__ is the average reward per game. For a correct implementation it may stay low for some 10 epochs, then start growing while oscilating insanely and converges by ~50-100 steps depending on the network architecture. \n",
        "* If it never reaches target score by the end of for loop, try increasing the number of hidden neurons or look at the epsilon.\n",
        "* __ epsilon__ - agent's willingness to explore. If you see that agent's already at < 0.01 epsilon before it's is at least 200, just reset it back to 0.1 - 0.5."
      ]
    },
    {
      "cell_type": "markdown",
      "metadata": {
        "id": "vNXdbNdGRrBB"
      },
      "source": [
        "### Record videos\n",
        "\n",
        "As usual, we now use `gym.wrappers.Monitor` to record a video of our agent playing the game. Unlike our previous attempts with state binarization, this time we expect our agent to act ~~(or fail)~~ more smoothly since there's no more binarization error at play.\n",
        "\n",
        "As you already did with tabular q-learning, we set epsilon=0 for final evaluation to prevent agent from exploring himself to death."
      ]
    },
    {
      "cell_type": "code",
      "metadata": {
        "id": "-l9Qp42rRrBB"
      },
      "source": [
        "# Record sessions\n",
        "\n",
        "import gym.wrappers\n",
        "\n",
        "with gym.wrappers.Monitor(gym.make(\"CartPole-v0\"), directory=\"videos\", force=True) as env_monitor:\n",
        "    sessions = [generate_session(env_monitor, epsilon=0, train=False) for _ in range(100)]"
      ],
      "execution_count": 14,
      "outputs": []
    },
    {
      "cell_type": "code",
      "metadata": {
        "colab": {
          "base_uri": "https://localhost:8080/",
          "height": 501
        },
        "id": "OFKf_B_7RrBB",
        "outputId": "ade1dd27-e8ec-4f9f-e26b-be9134059a7d"
      },
      "source": [
        "# Show video. This may not work in some setups. If it doesn't\n",
        "# work for you, you can download the videos and view them locally.\n",
        "\n",
        "from pathlib import Path\n",
        "from IPython.display import HTML\n",
        "\n",
        "video_names = sorted([s for s in Path('videos').iterdir() if s.suffix == '.mp4'])\n",
        "\n",
        "HTML(\"\"\"\n",
        "<video width=\"640\" height=\"480\" controls>\n",
        "  <source src=\"{}\" type=\"video/mp4\">\n",
        "</video>\n",
        "\"\"\".format(video_names[-1]))  # You can also try other indices"
      ],
      "execution_count": 15,
      "outputs": [
        {
          "output_type": "execute_result",
          "data": {
            "text/html": [
              "\n",
              "<video width=\"640\" height=\"480\" controls>\n",
              "  <source src=\"videos/openaigym.video.0.62.video000064.mp4\" type=\"video/mp4\">\n",
              "</video>\n"
            ],
            "text/plain": [
              "<IPython.core.display.HTML object>"
            ]
          },
          "metadata": {
            "tags": []
          },
          "execution_count": 15
        }
      ]
    }
  ]
}