{
  "nbformat": 4,
  "nbformat_minor": 0,
  "metadata": {
    "colab": {
      "name": "w4.1.ipynb",
      "provenance": [],
      "collapsed_sections": []
    },
    "language_info": {
      "name": "python"
    },
    "kernelspec": {
      "name": "python3",
      "display_name": "Python 3"
    },
    "accelerator": "GPU"
  },
  "cells": [
    {
      "cell_type": "code",
      "metadata": {
        "id": "hW-2nlCwzfAG",
        "colab": {
          "base_uri": "https://localhost:8080/"
        },
        "outputId": "f4ca8859-0c16-442e-a541-574bc132b0ab"
      },
      "source": [
        "import sys, os\n",
        "if 'google.colab' in sys.modules and not os.path.exists('.setup_complete'):\n",
        "    !wget -q https://raw.githubusercontent.com/yandexdataschool/Practical_RL/master/setup_colab.sh -O- | bash\n",
        "    \n",
        "    !wget -q https://raw.githubusercontent.com/yandexdataschool/Practical_RL/coursera/grading.py -O ../grading.py\n",
        "    !wget -q https://raw.githubusercontent.com/yandexdataschool/Practical_RL/coursera/week4_approx/submit.py\n",
        "    !wget -q https://raw.githubusercontent.com/yandexdataschool/Practical_RL/coursera/week4_approx/framebuffer.py\n",
        "    !wget -q https://raw.githubusercontent.com/yandexdataschool/Practical_RL/coursera/week4_approx/replay_buffer.py\n",
        "    !wget -q https://raw.githubusercontent.com/yandexdataschool/Practical_RL/coursera/week4_approx/atari_wrappers.py\n",
        "    !wget -q https://raw.githubusercontent.com/yandexdataschool/Practical_RL/coursera/week4_approx/utils.py\n",
        "\n",
        "    !touch .setup_complete\n",
        "\n",
        "# This code creates a virtual display to draw game images on.\n",
        "# It will have no effect if your machine has a monitor.\n",
        "if type(os.environ.get(\"DISPLAY\")) is not str or len(os.environ.get(\"DISPLAY\")) == 0:\n",
        "    !bash ../xvfb start\n",
        "    os.environ['DISPLAY'] = ':1'"
      ],
      "execution_count": 1,
      "outputs": [
        {
          "output_type": "stream",
          "text": [
            "Selecting previously unselected package xvfb.\n",
            "(Reading database ... 160772 files and directories currently installed.)\n",
            "Preparing to unpack .../xvfb_2%3a1.19.6-1ubuntu4.9_amd64.deb ...\n",
            "Unpacking xvfb (2:1.19.6-1ubuntu4.9) ...\n",
            "Setting up xvfb (2:1.19.6-1ubuntu4.9) ...\n",
            "Processing triggers for man-db (2.8.3-2ubuntu0.1) ...\n",
            "Starting virtual X frame buffer: Xvfb.\n"
          ],
          "name": "stdout"
        }
      ]
    },
    {
      "cell_type": "code",
      "metadata": {
        "id": "e1_PRm-qzfAI"
      },
      "source": [
        "import random\n",
        "import numpy as np\n",
        "import torch\n",
        "import utils"
      ],
      "execution_count": 2,
      "outputs": []
    },
    {
      "cell_type": "code",
      "metadata": {
        "id": "bxO_GqfTzfAJ",
        "colab": {
          "base_uri": "https://localhost:8080/"
        },
        "outputId": "79afc861-7ed9-4715-cf9d-5a758d0e147c"
      },
      "source": [
        "import gym\n",
        "import numpy as np\n",
        "import matplotlib.pyplot as plt\n",
        "%matplotlib inline\n",
        "\n",
        "import urllib.request\n",
        "urllib.request.urlretrieve('http://www.atarimania.com/roms/Roms.rar','Roms.rar')\n",
        "!pip install unrar\n",
        "!unrar x Roms.rar\n",
        "!mkdir rars\n",
        "!mv HC\\ ROMS.zip   rars\n",
        "!mv ROMS.zip  rars\n",
        "!python -m atari_py.import_roms rars"
      ],
      "execution_count": 3,
      "outputs": [
        {
          "output_type": "stream",
          "text": [
            "Collecting unrar\n",
            "  Downloading https://files.pythonhosted.org/packages/bb/0b/53130ccd483e3db8c8a460cb579bdb21b458d5494d67a261e1a5b273fbb9/unrar-0.4-py3-none-any.whl\n",
            "Installing collected packages: unrar\n",
            "Successfully installed unrar-0.4\n",
            "\n",
            "UNRAR 5.50 freeware      Copyright (c) 1993-2017 Alexander Roshal\n",
            "\n",
            "\n",
            "Extracting from Roms.rar\n",
            "\n",
            "Extracting  HC ROMS.zip                                                  \b\b\b\b 36%\b\b\b\b\b  OK \n",
            "Extracting  ROMS.zip                                                     \b\b\b\b 74%\b\b\b\b 99%\b\b\b\b\b  OK \n",
            "All OK\n",
            "copying adventure.bin from HC ROMS/BY ALPHABET (PAL)/A-G/Adventure (PAL).bin to /usr/local/lib/python3.7/dist-packages/atari_py/atari_roms/adventure.bin\n",
            "copying air_raid.bin from HC ROMS/BY ALPHABET (PAL)/A-G/Air Raid (PAL).bin to /usr/local/lib/python3.7/dist-packages/atari_py/atari_roms/air_raid.bin\n",
            "copying alien.bin from HC ROMS/BY ALPHABET (PAL)/A-G/REMAINING NTSC ORIGINALS/Alien.bin to /usr/local/lib/python3.7/dist-packages/atari_py/atari_roms/alien.bin\n",
            "copying crazy_climber.bin from HC ROMS/BY ALPHABET (PAL)/A-G/REMAINING NTSC ORIGINALS/Crazy Climber.bin to /usr/local/lib/python3.7/dist-packages/atari_py/atari_roms/crazy_climber.bin\n",
            "copying elevator_action.bin from HC ROMS/BY ALPHABET (PAL)/A-G/REMAINING NTSC ORIGINALS/Elevator Action (Prototype).bin to /usr/local/lib/python3.7/dist-packages/atari_py/atari_roms/elevator_action.bin\n",
            "copying gravitar.bin from HC ROMS/BY ALPHABET (PAL)/A-G/REMAINING NTSC ORIGINALS/Gravitar.bin to /usr/local/lib/python3.7/dist-packages/atari_py/atari_roms/gravitar.bin\n",
            "copying keystone_kapers.bin from HC ROMS/BY ALPHABET (PAL)/H-R/Keystone Kapers (PAL).bin to /usr/local/lib/python3.7/dist-packages/atari_py/atari_roms/keystone_kapers.bin\n",
            "copying king_kong.bin from HC ROMS/BY ALPHABET (PAL)/H-R/King Kong (PAL).bin to /usr/local/lib/python3.7/dist-packages/atari_py/atari_roms/king_kong.bin\n",
            "copying laser_gates.bin from HC ROMS/BY ALPHABET (PAL)/H-R/Laser Gates (PAL).bin to /usr/local/lib/python3.7/dist-packages/atari_py/atari_roms/laser_gates.bin\n",
            "copying mr_do.bin from HC ROMS/BY ALPHABET (PAL)/H-R/Mr. Do! (PAL).bin to /usr/local/lib/python3.7/dist-packages/atari_py/atari_roms/mr_do.bin\n",
            "copying pacman.bin from HC ROMS/BY ALPHABET (PAL)/H-R/Pac-Man (PAL).bin to /usr/local/lib/python3.7/dist-packages/atari_py/atari_roms/pacman.bin\n",
            "copying jamesbond.bin from HC ROMS/BY ALPHABET (PAL)/H-R/REMAINING NTSC ORIGINALS/James Bond 007.bin to /usr/local/lib/python3.7/dist-packages/atari_py/atari_roms/jamesbond.bin\n",
            "copying koolaid.bin from HC ROMS/BY ALPHABET (PAL)/H-R/REMAINING NTSC ORIGINALS/Kool-Aid Man.bin to /usr/local/lib/python3.7/dist-packages/atari_py/atari_roms/koolaid.bin\n",
            "copying krull.bin from HC ROMS/BY ALPHABET (PAL)/H-R/REMAINING NTSC ORIGINALS/Krull.bin to /usr/local/lib/python3.7/dist-packages/atari_py/atari_roms/krull.bin\n",
            "copying montezuma_revenge.bin from HC ROMS/BY ALPHABET (PAL)/H-R/REMAINING NTSC ORIGINALS/Montezuma's Revenge - Featuring Panama Joe.bin to /usr/local/lib/python3.7/dist-packages/atari_py/atari_roms/montezuma_revenge.bin\n",
            "copying star_gunner.bin from HC ROMS/BY ALPHABET (PAL)/S-Z/REMAINING NTSC ORIGINALS/Stargunner.bin to /usr/local/lib/python3.7/dist-packages/atari_py/atari_roms/star_gunner.bin\n",
            "copying time_pilot.bin from HC ROMS/BY ALPHABET (PAL)/S-Z/REMAINING NTSC ORIGINALS/Time Pilot.bin to /usr/local/lib/python3.7/dist-packages/atari_py/atari_roms/time_pilot.bin\n",
            "copying up_n_down.bin from HC ROMS/BY ALPHABET (PAL)/S-Z/REMAINING NTSC ORIGINALS/Up 'n Down.bin to /usr/local/lib/python3.7/dist-packages/atari_py/atari_roms/up_n_down.bin\n",
            "copying sir_lancelot.bin from HC ROMS/BY ALPHABET (PAL)/S-Z/Sir Lancelot (PAL).bin to /usr/local/lib/python3.7/dist-packages/atari_py/atari_roms/sir_lancelot.bin\n",
            "copying amidar.bin from HC ROMS/BY ALPHABET/A-G/Amidar.bin to /usr/local/lib/python3.7/dist-packages/atari_py/atari_roms/amidar.bin\n",
            "copying asteroids.bin from HC ROMS/BY ALPHABET/A-G/Asteroids [no copyright].bin to /usr/local/lib/python3.7/dist-packages/atari_py/atari_roms/asteroids.bin\n",
            "copying atlantis.bin from HC ROMS/BY ALPHABET/A-G/Atlantis.bin to /usr/local/lib/python3.7/dist-packages/atari_py/atari_roms/atlantis.bin\n",
            "copying bank_heist.bin from HC ROMS/BY ALPHABET/A-G/Bank Heist.bin to /usr/local/lib/python3.7/dist-packages/atari_py/atari_roms/bank_heist.bin\n",
            "copying battle_zone.bin from HC ROMS/BY ALPHABET/A-G/Battlezone.bin to /usr/local/lib/python3.7/dist-packages/atari_py/atari_roms/battle_zone.bin\n",
            "copying beam_rider.bin from HC ROMS/BY ALPHABET/A-G/Beamrider.bin to /usr/local/lib/python3.7/dist-packages/atari_py/atari_roms/beam_rider.bin\n",
            "copying berzerk.bin from HC ROMS/BY ALPHABET/A-G/Berzerk.bin to /usr/local/lib/python3.7/dist-packages/atari_py/atari_roms/berzerk.bin\n",
            "copying bowling.bin from HC ROMS/BY ALPHABET/A-G/Bowling.bin to /usr/local/lib/python3.7/dist-packages/atari_py/atari_roms/bowling.bin\n",
            "copying boxing.bin from HC ROMS/BY ALPHABET/A-G/Boxing.bin to /usr/local/lib/python3.7/dist-packages/atari_py/atari_roms/boxing.bin\n",
            "copying breakout.bin from HC ROMS/BY ALPHABET/A-G/Breakout - Breakaway IV.bin to /usr/local/lib/python3.7/dist-packages/atari_py/atari_roms/breakout.bin\n",
            "copying carnival.bin from HC ROMS/BY ALPHABET/A-G/Carnival.bin to /usr/local/lib/python3.7/dist-packages/atari_py/atari_roms/carnival.bin\n",
            "copying centipede.bin from HC ROMS/BY ALPHABET/A-G/Centipede.bin to /usr/local/lib/python3.7/dist-packages/atari_py/atari_roms/centipede.bin\n",
            "copying chopper_command.bin from HC ROMS/BY ALPHABET/A-G/Chopper Command.bin to /usr/local/lib/python3.7/dist-packages/atari_py/atari_roms/chopper_command.bin\n",
            "copying defender.bin from HC ROMS/BY ALPHABET/A-G/Defender.bin to /usr/local/lib/python3.7/dist-packages/atari_py/atari_roms/defender.bin\n",
            "copying demon_attack.bin from HC ROMS/BY ALPHABET/A-G/Demon Attack.bin to /usr/local/lib/python3.7/dist-packages/atari_py/atari_roms/demon_attack.bin\n",
            "copying donkey_kong.bin from HC ROMS/BY ALPHABET/A-G/Donkey Kong.bin to /usr/local/lib/python3.7/dist-packages/atari_py/atari_roms/donkey_kong.bin\n",
            "copying double_dunk.bin from HC ROMS/BY ALPHABET/A-G/Double Dunk.bin to /usr/local/lib/python3.7/dist-packages/atari_py/atari_roms/double_dunk.bin\n",
            "copying enduro.bin from HC ROMS/BY ALPHABET/A-G/Enduro.bin to /usr/local/lib/python3.7/dist-packages/atari_py/atari_roms/enduro.bin\n",
            "copying fishing_derby.bin from HC ROMS/BY ALPHABET/A-G/Fishing Derby.bin to /usr/local/lib/python3.7/dist-packages/atari_py/atari_roms/fishing_derby.bin\n",
            "copying freeway.bin from HC ROMS/BY ALPHABET/A-G/Freeway.bin to /usr/local/lib/python3.7/dist-packages/atari_py/atari_roms/freeway.bin\n",
            "copying frogger.bin from HC ROMS/BY ALPHABET/A-G/Frogger.bin to /usr/local/lib/python3.7/dist-packages/atari_py/atari_roms/frogger.bin\n",
            "copying frostbite.bin from HC ROMS/BY ALPHABET/A-G/Frostbite.bin to /usr/local/lib/python3.7/dist-packages/atari_py/atari_roms/frostbite.bin\n",
            "copying galaxian.bin from HC ROMS/BY ALPHABET/A-G/Galaxian.bin to /usr/local/lib/python3.7/dist-packages/atari_py/atari_roms/galaxian.bin\n",
            "copying gopher.bin from HC ROMS/BY ALPHABET/A-G/Gopher.bin to /usr/local/lib/python3.7/dist-packages/atari_py/atari_roms/gopher.bin\n",
            "copying hero.bin from HC ROMS/BY ALPHABET/H-R/H.E.R.O..bin to /usr/local/lib/python3.7/dist-packages/atari_py/atari_roms/hero.bin\n",
            "copying ice_hockey.bin from HC ROMS/BY ALPHABET/H-R/Ice Hockey.bin to /usr/local/lib/python3.7/dist-packages/atari_py/atari_roms/ice_hockey.bin\n",
            "copying journey_escape.bin from HC ROMS/BY ALPHABET/H-R/Journey Escape.bin to /usr/local/lib/python3.7/dist-packages/atari_py/atari_roms/journey_escape.bin\n",
            "copying kaboom.bin from HC ROMS/BY ALPHABET/H-R/Kaboom!.bin to /usr/local/lib/python3.7/dist-packages/atari_py/atari_roms/kaboom.bin\n",
            "copying kangaroo.bin from HC ROMS/BY ALPHABET/H-R/Kangaroo.bin to /usr/local/lib/python3.7/dist-packages/atari_py/atari_roms/kangaroo.bin\n",
            "copying kung_fu_master.bin from HC ROMS/BY ALPHABET/H-R/Kung-Fu Master.bin to /usr/local/lib/python3.7/dist-packages/atari_py/atari_roms/kung_fu_master.bin\n",
            "copying lost_luggage.bin from HC ROMS/BY ALPHABET/H-R/Lost Luggage [no opening scene].bin to /usr/local/lib/python3.7/dist-packages/atari_py/atari_roms/lost_luggage.bin\n",
            "copying ms_pacman.bin from HC ROMS/BY ALPHABET/H-R/Ms. Pac-Man.bin to /usr/local/lib/python3.7/dist-packages/atari_py/atari_roms/ms_pacman.bin\n",
            "copying name_this_game.bin from HC ROMS/BY ALPHABET/H-R/Name This Game.bin to /usr/local/lib/python3.7/dist-packages/atari_py/atari_roms/name_this_game.bin\n",
            "copying phoenix.bin from HC ROMS/BY ALPHABET/H-R/Phoenix.bin to /usr/local/lib/python3.7/dist-packages/atari_py/atari_roms/phoenix.bin\n",
            "copying pitfall.bin from HC ROMS/BY ALPHABET/H-R/Pitfall! - Pitfall Harry's Jungle Adventure.bin to /usr/local/lib/python3.7/dist-packages/atari_py/atari_roms/pitfall.bin\n",
            "copying pooyan.bin from HC ROMS/BY ALPHABET/H-R/Pooyan.bin to /usr/local/lib/python3.7/dist-packages/atari_py/atari_roms/pooyan.bin\n",
            "copying private_eye.bin from HC ROMS/BY ALPHABET/H-R/Private Eye.bin to /usr/local/lib/python3.7/dist-packages/atari_py/atari_roms/private_eye.bin\n",
            "copying qbert.bin from HC ROMS/BY ALPHABET/H-R/Q-bert.bin to /usr/local/lib/python3.7/dist-packages/atari_py/atari_roms/qbert.bin\n",
            "copying riverraid.bin from HC ROMS/BY ALPHABET/H-R/River Raid.bin to /usr/local/lib/python3.7/dist-packages/atari_py/atari_roms/riverraid.bin\n",
            "copying road_runner.bin from patched version of HC ROMS/BY ALPHABET/H-R/Road Runner.bin to /usr/local/lib/python3.7/dist-packages/atari_py/atari_roms/road_runner.bin\n",
            "copying robotank.bin from HC ROMS/BY ALPHABET/H-R/Robot Tank.bin to /usr/local/lib/python3.7/dist-packages/atari_py/atari_roms/robotank.bin\n",
            "copying seaquest.bin from HC ROMS/BY ALPHABET/S-Z/Seaquest.bin to /usr/local/lib/python3.7/dist-packages/atari_py/atari_roms/seaquest.bin\n",
            "copying skiing.bin from HC ROMS/BY ALPHABET/S-Z/Skiing.bin to /usr/local/lib/python3.7/dist-packages/atari_py/atari_roms/skiing.bin\n",
            "copying solaris.bin from HC ROMS/BY ALPHABET/S-Z/Solaris.bin to /usr/local/lib/python3.7/dist-packages/atari_py/atari_roms/solaris.bin\n",
            "copying space_invaders.bin from HC ROMS/BY ALPHABET/S-Z/Space Invaders.bin to /usr/local/lib/python3.7/dist-packages/atari_py/atari_roms/space_invaders.bin\n",
            "copying surround.bin from HC ROMS/BY ALPHABET/S-Z/Surround - Chase.bin to /usr/local/lib/python3.7/dist-packages/atari_py/atari_roms/surround.bin\n",
            "copying tennis.bin from HC ROMS/BY ALPHABET/S-Z/Tennis.bin to /usr/local/lib/python3.7/dist-packages/atari_py/atari_roms/tennis.bin\n",
            "copying trondead.bin from HC ROMS/BY ALPHABET/S-Z/TRON - Deadly Discs.bin to /usr/local/lib/python3.7/dist-packages/atari_py/atari_roms/trondead.bin\n",
            "copying tutankham.bin from HC ROMS/BY ALPHABET/S-Z/Tutankham.bin to /usr/local/lib/python3.7/dist-packages/atari_py/atari_roms/tutankham.bin\n",
            "copying venture.bin from HC ROMS/BY ALPHABET/S-Z/Venture.bin to /usr/local/lib/python3.7/dist-packages/atari_py/atari_roms/venture.bin\n",
            "copying pong.bin from HC ROMS/BY ALPHABET/S-Z/Video Olympics - Pong Sports.bin to /usr/local/lib/python3.7/dist-packages/atari_py/atari_roms/pong.bin\n",
            "copying video_pinball.bin from HC ROMS/BY ALPHABET/S-Z/Video Pinball - Arcade Pinball.bin to /usr/local/lib/python3.7/dist-packages/atari_py/atari_roms/video_pinball.bin\n",
            "copying wizard_of_wor.bin from HC ROMS/BY ALPHABET/S-Z/Wizard of Wor.bin to /usr/local/lib/python3.7/dist-packages/atari_py/atari_roms/wizard_of_wor.bin\n",
            "copying yars_revenge.bin from HC ROMS/BY ALPHABET/S-Z/Yars' Revenge.bin to /usr/local/lib/python3.7/dist-packages/atari_py/atari_roms/yars_revenge.bin\n",
            "copying zaxxon.bin from HC ROMS/BY ALPHABET/S-Z/Zaxxon.bin to /usr/local/lib/python3.7/dist-packages/atari_py/atari_roms/zaxxon.bin\n",
            "copying assault.bin from HC ROMS/NTSC VERSIONS OF PAL ORIGINALS/Assault (AKA Sky Alien) (1983) (Bomb - Onbase) (CA281).bin to /usr/local/lib/python3.7/dist-packages/atari_py/atari_roms/assault.bin\n",
            "copying asterix.bin from ROMS/Asterix (AKA Taz) (07-27-1983) (Atari, Jerome Domurat, Steve Woita) (CX2696) (Prototype).bin to /usr/local/lib/python3.7/dist-packages/atari_py/atari_roms/asterix.bin\n"
          ],
          "name": "stdout"
        }
      ]
    },
    {
      "cell_type": "code",
      "metadata": {
        "id": "pxgtvGRizfAJ"
      },
      "source": [
        "ENV_NAME = \"BreakoutNoFrameskip-v4\""
      ],
      "execution_count": 4,
      "outputs": []
    },
    {
      "cell_type": "markdown",
      "metadata": {
        "id": "lT_Ntv6zzfAK"
      },
      "source": [
        "## Preprocessing"
      ]
    },
    {
      "cell_type": "markdown",
      "metadata": {
        "id": "Vl6TWC0IzfAL"
      },
      "source": [
        "Let's see what observations look like."
      ]
    },
    {
      "cell_type": "code",
      "metadata": {
        "id": "CQqtycIUzfAL",
        "colab": {
          "base_uri": "https://localhost:8080/",
          "height": 520
        },
        "outputId": "38aa20fc-7cb6-4376-a779-bc3910e6bf06"
      },
      "source": [
        "env = gym.make(ENV_NAME)\n",
        "env.reset()\n",
        "\n",
        "n_cols = 5\n",
        "n_rows = 2\n",
        "fig = plt.figure(figsize=(16, 9))\n",
        "\n",
        "for row in range(n_rows):\n",
        "    for col in range(n_cols):\n",
        "        ax = fig.add_subplot(n_rows, n_cols, row * n_cols + col + 1)\n",
        "        ax.imshow(env.render('rgb_array'))\n",
        "        env.step(env.action_space.sample())\n",
        "plt.show()"
      ],
      "execution_count": 5,
      "outputs": [
        {
          "output_type": "display_data",
          "data": {
            "image/png": "[encoded data removed]",
            "text/plain": [
              "<Figure size 1152x648 with 10 Axes>"
            ]
          },
          "metadata": {
            "tags": [],
            "needs_background": "light"
          }
        }
      ]
    },
    {
      "cell_type": "markdown",
      "metadata": {
        "id": "7l0eXe6DzfAM"
      },
      "source": [
        "**Let's play a little.**\n",
        "\n",
        "Pay attention to zoom and fps args of play function. Control: A, D, space."
      ]
    },
    {
      "cell_type": "markdown",
      "metadata": {
        "id": "2alV_Dt1zfAN"
      },
      "source": [
        "### Processing game image \n",
        "\n",
        "Raw Atari images are large, 210x160x3 by default. However, we don't need that level of detail in order to learn them.\n",
        "\n",
        "We can thus save a lot of time by preprocessing game image, including\n",
        "* Resizing to a smaller shape, 64 x 64\n",
        "* Converting to grayscale\n",
        "* Cropping irrelevant image parts (top, bottom and edges)\n",
        "\n",
        "Also please keep one dimension for channel so that final shape would be 1 x 64 x 64.\n",
        "\n",
        "Tip: You can implement your own grayscale converter and assign a huge weight to the red channel. This dirty trick is not necessary but it will speed up learning."
      ]
    },
    {
      "cell_type": "code",
      "metadata": {
        "id": "Oz1lDvGdzfAO"
      },
      "source": [
        "from gym.core import ObservationWrapper\n",
        "from gym.spaces import Box\n",
        "import cv2\n",
        "\n",
        "class PreprocessAtariObs(ObservationWrapper):\n",
        "    def __init__(self, env):\n",
        "        \"\"\"A gym wrapper that crops, scales image into the desired shapes and grayscales it.\"\"\"\n",
        "        ObservationWrapper.__init__(self, env)\n",
        "\n",
        "        self.img_size = (1, 64, 64)\n",
        "        self.observation_space = Box(0.0, 1.0, self.img_size)\n",
        "\n",
        "\n",
        "    def _to_gray_scale(self, rgb, channel_weights=[0.5, 0.3, 0.2]):\n",
        "        return np.float32(np.array([np.dot(rgb[..., :3], channel_weights)]))\n",
        "\n",
        "\n",
        "    def observation(self, img):\n",
        "        \"\"\"what happens to each observation\"\"\"\n",
        "\n",
        "        # Here's what you need to do:\n",
        "        #  * crop image, remove irrelevant parts\n",
        "        #  * resize image to self.img_size\n",
        "        #     (use imresize from any library you want,\n",
        "        #      e.g. opencv, skimage, PIL, keras)\n",
        "        #  * cast image to grayscale\n",
        "        #  * convert image pixels to (0,1) range, float32 type\n",
        "        img = img[32:194, 0:160]\n",
        "        img = cv2.resize(img, (64, 64))\n",
        "        img = (self._to_gray_scale(img))/255\n",
        "        return img"
      ],
      "execution_count": 7,
      "outputs": []
    },
    {
      "cell_type": "code",
      "metadata": {
        "id": "WlTAUZPMzfAO",
        "colab": {
          "base_uri": "https://localhost:8080/",
          "height": 488
        },
        "outputId": "c92e27db-c260-49d0-f53d-74dd6e7688a6"
      },
      "source": [
        "import gym\n",
        "# spawn game instance for tests\n",
        "env = gym.make(ENV_NAME)  # create raw env\n",
        "env = PreprocessAtariObs(env)\n",
        "observation_shape = env.observation_space.shape\n",
        "n_actions = env.action_space.n\n",
        "env.reset()\n",
        "obs, _, _, _ = env.step(env.action_space.sample())\n",
        "\n",
        "# test observation\n",
        "assert obs.ndim == 3, \"observation must be [channel, h, w] even if there's just one channel\"\n",
        "assert obs.shape == observation_shape\n",
        "assert obs.dtype == 'float32'\n",
        "assert len(np.unique(obs)) > 2, \"your image must not be binary\"\n",
        "assert 0 <= np.min(obs) and np.max(\n",
        "    obs) <= 1, \"convert image pixels to [0,1] range\"\n",
        "\n",
        "assert np.max(obs) >= 0.5, \"It would be easier to see a brighter observation\"\n",
        "assert np.mean(obs) >= 0.1, \"It would be easier to see a brighter observation\"\n",
        "\n",
        "print(\"Formal tests seem fine. Here's an example of what you'll get.\")\n",
        "\n",
        "n_cols = 5\n",
        "n_rows = 2\n",
        "fig = plt.figure(figsize=(16, 9))\n",
        "obs = env.reset()\n",
        "for row in range(n_rows):\n",
        "    for col in range(n_cols):\n",
        "        ax = fig.add_subplot(n_rows, n_cols, row * n_cols + col + 1)\n",
        "        ax.imshow(obs[0, :, :], interpolation='none', cmap='gray')\n",
        "        obs, _, _, _ = env.step(env.action_space.sample())\n",
        "plt.show()\n"
      ],
      "execution_count": 8,
      "outputs": [
        {
          "output_type": "stream",
          "text": [
            "Formal tests seem fine. Here's an example of what you'll get.\n"
          ],
          "name": "stdout"
        },
        {
          "output_type": "display_data",
          "data": {
            "image/png": "[encoded data removed]",
            "text/plain": [
              "<Figure size 1152x648 with 10 Axes>"
            ]
          },
          "metadata": {
            "tags": [],
            "needs_background": "light"
          }
        }
      ]
    },
    {
      "cell_type": "markdown",
      "metadata": {
        "id": "DIaqIiwkzfAP"
      },
      "source": [
        "### Wrapping."
      ]
    },
    {
      "cell_type": "markdown",
      "metadata": {
        "id": "77ul3RrfzfAQ"
      },
      "source": [
        "**About the game:** You have 5 lives and get points for breaking the wall. Higher bricks cost more than the lower ones. There are 4 actions: start game (should be called at the beginning and after each life is lost), move left, move right and do nothing. There are some common wrappers used for Atari environments."
      ]
    },
    {
      "cell_type": "code",
      "metadata": {
        "id": "jjDJOgDXzfAQ"
      },
      "source": [
        "%load_ext autoreload\n",
        "%autoreload 2\n",
        "import atari_wrappers\n",
        "\n",
        "def PrimaryAtariWrap(env, clip_rewards=True):\n",
        "    assert 'NoFrameskip' in env.spec.id\n",
        "\n",
        "    # This wrapper holds the same action for <skip> frames and outputs\n",
        "    # the maximal pixel value of 2 last frames (to handle blinking\n",
        "    # in some envs)\n",
        "    env = atari_wrappers.MaxAndSkipEnv(env, skip=4)\n",
        "\n",
        "    # This wrapper sends done=True when each life is lost\n",
        "    # (not all the 5 lives that are givern by the game rules).\n",
        "    # It should make easier for the agent to understand that losing is bad.\n",
        "    env = atari_wrappers.EpisodicLifeEnv(env)\n",
        "\n",
        "    # This wrapper laucnhes the ball when an episode starts.\n",
        "    # Without it the agent has to learn this action, too.\n",
        "    # Actually it can but learning would take longer.\n",
        "    env = atari_wrappers.FireResetEnv(env)\n",
        "\n",
        "    # This wrapper transforms rewards to {-1, 0, 1} according to their sign\n",
        "    if clip_rewards:\n",
        "        env = atari_wrappers.ClipRewardEnv(env)\n",
        "\n",
        "    # This wrapper is yours :)\n",
        "    env = PreprocessAtariObs(env)\n",
        "    return env"
      ],
      "execution_count": 9,
      "outputs": []
    },
    {
      "cell_type": "markdown",
      "metadata": {
        "id": "d-W1oOQhzfAQ"
      },
      "source": [
        "**Let's see if the game is still playable after applying the wrappers.**\n",
        "At playing the EpisodicLifeEnv wrapper seems not to work but actually it does (because after when life finishes a new ball is dropped automatically - it means that FireResetEnv wrapper understands that a new episode began)."
      ]
    },
    {
      "cell_type": "code",
      "metadata": {
        "id": "E1le0LSazfAR"
      },
      "source": [
        "# # does not work in Colab.\n",
        "# # make keyboard interrupt to continue\n",
        "\n",
        "# from gym.utils.play import play\n",
        "\n",
        "# def make_play_env():\n",
        "#     env = gym.make(ENV_NAME)\n",
        "#     env = PrimaryAtariWrap(env)\n",
        "# # in torch imgs have shape [c, h, w] instead of common [h, w, c]\n",
        "#     env = atari_wrappers.AntiTorchWrapper(env)\n",
        "#     return env\n",
        "\n",
        "# play(make_play_env(), zoom=10, fps=3)"
      ],
      "execution_count": 10,
      "outputs": []
    },
    {
      "cell_type": "markdown",
      "metadata": {
        "id": "qdaw67hwzfAR"
      },
      "source": [
        "### Frame buffer\n",
        "\n",
        "Our agent can only process one observation at a time, so we gotta make sure it contains enough information to find optimal actions. For instance, agent has to react to moving objects so he must be able to measure object's velocity.\n",
        "\n",
        "To do so, we introduce a buffer that stores 4 last images. This time everything is pre-implemented for you, not really by the staff of the course :)"
      ]
    },
    {
      "cell_type": "code",
      "metadata": {
        "id": "uChsE4YczfAS"
      },
      "source": [
        "from framebuffer import FrameBuffer\n",
        "\n",
        "def make_env(clip_rewards=True, seed=None):\n",
        "    env = gym.make(ENV_NAME)  # create raw env\n",
        "    if seed is not None:\n",
        "        env.seed(seed)\n",
        "    env = PrimaryAtariWrap(env, clip_rewards)\n",
        "    env = FrameBuffer(env, n_frames=4, dim_order='pytorch')\n",
        "    return env\n",
        "\n",
        "env = make_env()\n",
        "env.reset()\n",
        "n_actions = env.action_space.n\n",
        "state_shape = env.observation_space.shape"
      ],
      "execution_count": 11,
      "outputs": []
    },
    {
      "cell_type": "code",
      "metadata": {
        "id": "yu0KeyTpzfAS",
        "colab": {
          "base_uri": "https://localhost:8080/",
          "height": 1000
        },
        "outputId": "bd22d367-cf97-49ba-ffb0-ac81a33c51d9"
      },
      "source": [
        "for _ in range(12):\n",
        "    obs, _, _, _ = env.step(env.action_space.sample())\n",
        "\n",
        "plt.figure(figsize=[12,10])\n",
        "plt.title(\"Game image\")\n",
        "plt.imshow(env.render(\"rgb_array\"))\n",
        "plt.show()\n",
        "\n",
        "plt.figure(figsize=[15,15])\n",
        "plt.title(\"Agent observation (4 frames top to bottom)\")\n",
        "plt.imshow(utils.img_by_obs(obs, state_shape), cmap='gray')\n",
        "plt.show()"
      ],
      "execution_count": 12,
      "outputs": [
        {
          "output_type": "display_data",
          "data": {
            "image/png": "[encoded data removed]",
            "text/plain": [
              "<Figure size 864x720 with 1 Axes>"
            ]
          },
          "metadata": {
            "tags": [],
            "needs_background": "light"
          }
        },
        {
          "output_type": "display_data",
          "data": {
            "image/png": "[encoded data removed]",
            "text/plain": [
              "<Figure size 1080x1080 with 1 Axes>"
            ]
          },
          "metadata": {
            "tags": [],
            "needs_background": "light"
          }
        }
      ]
    },
    {
      "cell_type": "markdown",
      "metadata": {
        "id": "C9TZSC9jzfAS"
      },
      "source": [
        "## DQN as it is"
      ]
    },
    {
      "cell_type": "markdown",
      "metadata": {
        "id": "-Q5qwEBHzfAT"
      },
      "source": [
        "### Building a network\n",
        "\n",
        "We now need to build a neural network that can map images to state q-values. This network will be called on every agent's step so it better not be resnet-152 unless you have an array of GPUs. Instead, you can use strided convolutions with a small number of features to save time and memory.\n",
        "\n",
        "You can build any architecture you want, but for reference, here's something that will more or less work:"
      ]
    },
    {
      "cell_type": "markdown",
      "metadata": {
        "id": "qJGrVgEdzfAT"
      },
      "source": [
        "![img](https://github.com/yandexdataschool/Practical_RL/raw/master/yet_another_week/_resource/dqn_arch.png)"
      ]
    },
    {
      "cell_type": "code",
      "metadata": {
        "id": "EcOOmak8zfAU",
        "colab": {
          "base_uri": "https://localhost:8080/"
        },
        "outputId": "913e8eab-669c-4150-d44d-88644f151df6"
      },
      "source": [
        "import torch\n",
        "import torch.nn as nn\n",
        "device = torch.device('cuda' if torch.cuda.is_available() else 'cpu')\n",
        "# those who have a GPU but feel unfair to use it can uncomment:\n",
        "# device = torch.device('cpu')\n",
        "device"
      ],
      "execution_count": 13,
      "outputs": [
        {
          "output_type": "execute_result",
          "data": {
            "text/plain": [
              "device(type='cuda')"
            ]
          },
          "metadata": {
            "tags": []
          },
          "execution_count": 13
        }
      ]
    },
    {
      "cell_type": "code",
      "metadata": {
        "id": "wJQGEI6FzfAU"
      },
      "source": [
        "def conv2d_size_out(size, kernel_size, stride):\n",
        "    \"\"\"\n",
        "    common use case:\n",
        "    cur_layer_img_w = conv2d_size_out(cur_layer_img_w, kernel_size, stride)\n",
        "    cur_layer_img_h = conv2d_size_out(cur_layer_img_h, kernel_size, stride)\n",
        "    to understand the shape for dense layer's input\n",
        "    \"\"\"\n",
        "    return (size - (kernel_size - 1) - 1) // stride  + 1\n"
      ],
      "execution_count": 14,
      "outputs": []
    },
    {
      "cell_type": "code",
      "metadata": {
        "id": "kusP_Xv8zfAU"
      },
      "source": [
        "class DQNAgent(nn.Module):\n",
        "    def __init__(self, state_shape, n_actions, epsilon=0):\n",
        "\n",
        "        super().__init__()\n",
        "        self.epsilon = epsilon\n",
        "        self.n_actions = n_actions\n",
        "        self.state_shape = state_shape\n",
        "\n",
        "        # Define your network body here. Please make sure agent is fully contained here\n",
        "        # nn.Flatten() can be useful\n",
        "        length = state_shape[1]\n",
        "        self.ReLU = nn.ReLU()\n",
        "        self.flatten = nn.Flatten()\n",
        "        self.conv1 = nn.Conv2d(4, 16, kernel_size = 3, stride = 2)\n",
        "        length = conv2d_size_out(length, 3, 2)\n",
        "        self.conv2 = nn.Conv2d(16, 32, kernel_size = 3, stride = 2)\n",
        "        length = conv2d_size_out(length, 3, 2)\n",
        "        self.conv3 = nn.Conv2d(32, 64, kernel_size = 3, stride = 2)\n",
        "        length = conv2d_size_out(length, 3, 2)\n",
        "        self.lin1 = nn.Linear(64*length*length, 256)\n",
        "        self.lin2 = nn.Linear(256, n_actions)\n",
        "        \n",
        "\n",
        "    def forward(self, state_t):\n",
        "        \"\"\"\n",
        "        takes agent's observation (tensor), returns qvalues (tensor)\n",
        "        :param state_t: a batch of 4-frame buffers, shape = [batch_size, 4, h, w]\n",
        "        \"\"\"\n",
        "        # Use your network to compute qvalues for given state\n",
        "        qvalues = self.conv1(state_t)\n",
        "        qvalues = self.ReLU(qvalues)\n",
        "        qvalues = self.conv2(qvalues)\n",
        "        qvalues = self.ReLU(qvalues)\n",
        "        qvalues = self.conv3(qvalues)\n",
        "        qvalues = self.ReLU(qvalues)\n",
        "        qvalues = self.flatten(qvalues)\n",
        "        qvalues = self.lin1(qvalues)\n",
        "        qvalues = self.ReLU(qvalues)\n",
        "        qvalues = self.lin2(qvalues)\n",
        "\n",
        "        assert qvalues.requires_grad, \"qvalues must be a torch tensor with grad\"\n",
        "        assert len(\n",
        "            qvalues.shape) == 2 and qvalues.shape[0] == state_t.shape[0] and qvalues.shape[1] == n_actions\n",
        "\n",
        "        return qvalues\n",
        "\n",
        "    def get_qvalues(self, states):\n",
        "        \"\"\"\n",
        "        like forward, but works on numpy arrays, not tensors\n",
        "        \"\"\"\n",
        "        model_device = next(self.parameters()).device\n",
        "        states = torch.tensor(states, device=model_device, dtype=torch.float)\n",
        "        qvalues = self.forward(states)\n",
        "        return qvalues.data.cpu().numpy()\n",
        "\n",
        "    def sample_actions(self, qvalues):\n",
        "        \"\"\"pick actions given qvalues. Uses epsilon-greedy exploration strategy. \"\"\"\n",
        "        epsilon = self.epsilon\n",
        "        batch_size, n_actions = qvalues.shape\n",
        "\n",
        "        random_actions = np.random.choice(n_actions, size=batch_size)\n",
        "        best_actions = qvalues.argmax(axis=-1)\n",
        "\n",
        "        should_explore = np.random.choice(\n",
        "            [0, 1], batch_size, p=[1-epsilon, epsilon])\n",
        "        return np.where(should_explore, random_actions, best_actions)"
      ],
      "execution_count": 15,
      "outputs": []
    },
    {
      "cell_type": "code",
      "metadata": {
        "id": "4AavvjmIzfAV"
      },
      "source": [
        "agent = DQNAgent(state_shape, n_actions, epsilon=0.5).to(device)"
      ],
      "execution_count": 16,
      "outputs": []
    },
    {
      "cell_type": "markdown",
      "metadata": {
        "id": "fknA6CADzfAV"
      },
      "source": [
        "Now let's try out our agent to see if it raises any errors."
      ]
    },
    {
      "cell_type": "code",
      "metadata": {
        "id": "icvhgUQpzfAV"
      },
      "source": [
        "def evaluate(env, agent, n_games=1, greedy=False, t_max=10000):\n",
        "    \"\"\" Plays n_games full games. If greedy, picks actions as argmax(qvalues). Returns mean reward. \"\"\"\n",
        "    rewards = []\n",
        "    for _ in range(n_games):\n",
        "        s = env.reset()\n",
        "        reward = 0\n",
        "        for _ in range(t_max):\n",
        "            qvalues = agent.get_qvalues([s])\n",
        "            action = qvalues.argmax(axis=-1)[0] if greedy else agent.sample_actions(qvalues)[0]\n",
        "            s, r, done, _ = env.step(action)\n",
        "            reward += r\n",
        "            if done:\n",
        "                break\n",
        "\n",
        "        rewards.append(reward)\n",
        "    return np.mean(rewards)"
      ],
      "execution_count": 17,
      "outputs": []
    },
    {
      "cell_type": "code",
      "metadata": {
        "id": "NauBEo5BzfAV",
        "colab": {
          "base_uri": "https://localhost:8080/"
        },
        "outputId": "3885857b-1cff-43d2-8c76-6e176e0dff4e"
      },
      "source": [
        "evaluate(env, agent, n_games=1)"
      ],
      "execution_count": 18,
      "outputs": [
        {
          "output_type": "execute_result",
          "data": {
            "text/plain": [
              "0.0"
            ]
          },
          "metadata": {
            "tags": []
          },
          "execution_count": 18
        }
      ]
    },
    {
      "cell_type": "markdown",
      "metadata": {
        "id": "0hpVpV6TzfAW"
      },
      "source": [
        "### Experience replay\n",
        "\n",
        "![img](https://github.com/yandexdataschool/Practical_RL/raw/master/yet_another_week/_resource/exp_replay.png)"
      ]
    },
    {
      "cell_type": "markdown",
      "metadata": {
        "id": "lTNKdsNxzfAW"
      },
      "source": [
        "#### The interface is fairly simple:\n",
        "* `exp_replay.add(obs, act, rw, next_obs, done)` - saves (s,a,r,s',done) tuple into the buffer\n",
        "* `exp_replay.sample(batch_size)` - returns observations, actions, rewards, next_observations and is_done for `batch_size` random samples.\n",
        "* `len(exp_replay)` - returns number of elements stored in replay buffer."
      ]
    },
    {
      "cell_type": "code",
      "metadata": {
        "id": "5ZvYlwoczfAW"
      },
      "source": [
        "from replay_buffer import ReplayBuffer\n",
        "exp_replay = ReplayBuffer(10)\n",
        "\n",
        "for _ in range(30):\n",
        "    exp_replay.add(env.reset(), env.action_space.sample(),\n",
        "                   1.0, env.reset(), done=False)\n",
        "\n",
        "obs_batch, act_batch, reward_batch, next_obs_batch, is_done_batch = exp_replay.sample(\n",
        "    5)\n",
        "\n",
        "assert len(exp_replay) == 10, \"experience replay size should be 10 because that's what maximum capacity is\""
      ],
      "execution_count": 19,
      "outputs": []
    },
    {
      "cell_type": "code",
      "metadata": {
        "id": "BdR2fG_PzfAW"
      },
      "source": [
        "def play_and_record(initial_state, agent, env, exp_replay, n_steps=1):\n",
        "    \"\"\"\n",
        "    Play the game for exactly n steps, record every (s,a,r,s', done) to replay buffer. \n",
        "    Whenever game ends, add record with done=True and reset the game.\n",
        "    It is guaranteed that env has done=False when passed to this function.\n",
        "\n",
        "    PLEASE DO NOT RESET ENV UNLESS IT IS \"DONE\"\n",
        "\n",
        "    :returns: return sum of rewards over time and the state in which the env stays\n",
        "    \"\"\"\n",
        "    s = initial_state\n",
        "    sum_rewards = 0\n",
        "    last_info = None\n",
        "\n",
        "    # Play the game for n_steps as per instructions above\n",
        "    for i in range(0, n_steps):\n",
        "      qvalues = agent.get_qvalues([s])\n",
        "      action = agent.sample_actions(qvalues)[0]\n",
        "      next_s, r, done, info = env.step(action)\n",
        "      r = -10 if ( last_info is not None and last_info['ale.lives'] > info['ale.lives'] ) else r\n",
        "      sum_rewards += r\n",
        "      exp_replay.add(s, action, r, next_s, done)\n",
        "      last_info = info\n",
        "      if done:\n",
        "        s = env.reset()\n",
        "      else:\n",
        "        s = next_s\n",
        "\n",
        "    return sum_rewards, s"
      ],
      "execution_count": 20,
      "outputs": []
    },
    {
      "cell_type": "code",
      "metadata": {
        "id": "P8z6uoMKzfAW",
        "colab": {
          "base_uri": "https://localhost:8080/"
        },
        "outputId": "541bff04-37c6-4a7b-b01f-b4005e04a7b1"
      },
      "source": [
        "# testing your code.\n",
        "exp_replay = ReplayBuffer(2000)\n",
        "\n",
        "state = env.reset()\n",
        "play_and_record(state, agent, env, exp_replay, n_steps=1000)\n",
        "\n",
        "# if you're using your own experience replay buffer, some of those tests may need correction.\n",
        "# just make sure you know what your code does\n",
        "assert len(exp_replay) == 1000, \"play_and_record should have added exactly 1000 steps, \"\\\n",
        "                                 \"but instead added %i\" % len(exp_replay)\n",
        "is_dones = list(zip(*exp_replay._storage))[-1]\n",
        "\n",
        "assert 0 < np.mean(is_dones) < 0.1, \"Please make sure you restart the game whenever it is 'done' and record the is_done correctly into the buffer.\"\\\n",
        "                                    \"Got %f is_done rate over %i steps. [If you think it's your tough luck, just re-run the test]\" % (\n",
        "                                        np.mean(is_dones), len(exp_replay))\n",
        "\n",
        "for _ in range(100):\n",
        "    obs_batch, act_batch, reward_batch, next_obs_batch, is_done_batch = exp_replay.sample(\n",
        "        10)\n",
        "    assert obs_batch.shape == next_obs_batch.shape == (10,) + state_shape\n",
        "    assert act_batch.shape == (\n",
        "        10,), \"actions batch should have shape (10,) but is instead %s\" % str(act_batch.shape)\n",
        "    assert reward_batch.shape == (\n",
        "        10,), \"rewards batch should have shape (10,) but is instead %s\" % str(reward_batch.shape)\n",
        "    assert is_done_batch.shape == (\n",
        "        10,), \"is_done batch should have shape (10,) but is instead %s\" % str(is_done_batch.shape)\n",
        "    assert [int(i) in (0, 1)\n",
        "            for i in is_dones], \"is_done should be strictly True or False\"\n",
        "    assert [\n",
        "        0 <= a < n_actions for a in act_batch], \"actions should be within [0, n_actions)\"\n",
        "\n",
        "print(\"Well done!\")"
      ],
      "execution_count": 21,
      "outputs": [
        {
          "output_type": "stream",
          "text": [
            "Well done!\n"
          ],
          "name": "stdout"
        }
      ]
    },
    {
      "cell_type": "markdown",
      "metadata": {
        "id": "pkWRBTF2zfAX"
      },
      "source": [
        "### Target networks\n",
        "\n",
        "We also employ the so called \"target network\" - a copy of neural network weights to be used for reference Q-values:\n",
        "\n",
        "The network itself is an exact copy of agent network, but it's parameters are not trained. Instead, they are moved here from agent's actual network every so often.\n",
        "\n",
        "$$ Q_{reference}(s,a) = r + \\gamma \\cdot \\max _{a'} Q_{target}(s',a') $$\n",
        "\n",
        "![img](https://github.com/yandexdataschool/Practical_RL/raw/master/yet_another_week/_resource/target_net.png)"
      ]
    },
    {
      "cell_type": "code",
      "metadata": {
        "id": "lYUTnU58zfAX",
        "colab": {
          "base_uri": "https://localhost:8080/"
        },
        "outputId": "13c5fa6b-a45b-4e89-a333-cebd65ef57fe"
      },
      "source": [
        "target_network = DQNAgent(agent.state_shape, agent.n_actions, epsilon=0.5).to(device)\n",
        "# This is how you can load weights from agent into target network\n",
        "target_network.load_state_dict(agent.state_dict())"
      ],
      "execution_count": 22,
      "outputs": [
        {
          "output_type": "execute_result",
          "data": {
            "text/plain": [
              "<All keys matched successfully>"
            ]
          },
          "metadata": {
            "tags": []
          },
          "execution_count": 22
        }
      ]
    },
    {
      "cell_type": "markdown",
      "metadata": {
        "id": "C2e09Vn-zfAX"
      },
      "source": [
        "### Learning with... Q-learning\n",
        "Here we write a function similar to `agent.update` from tabular q-learning."
      ]
    },
    {
      "cell_type": "markdown",
      "metadata": {
        "id": "UjhdO2bizfAX"
      },
      "source": [
        "Compute Q-learning TD error:\n",
        "\n",
        "$$ L = { 1 \\over N} \\sum_i [ Q_{\\theta}(s,a) - Q_{reference}(s,a) ] ^2 $$\n",
        "\n",
        "With Q-reference defined as\n",
        "\n",
        "$$ Q_{reference}(s,a) = r(s,a) + \\gamma \\cdot max_{a'} Q_{target}(s', a') $$\n",
        "\n",
        "Where\n",
        "* $Q_{target}(s',a')$ denotes q-value of next state and next action predicted by __target_network__\n",
        "* $s, a, r, s'$ are current state, action, reward and next state respectively\n",
        "* $\\gamma$ is a discount factor defined two cells above.\n",
        "\n",
        "\n",
        "__Note 1:__ there's an example input below. Feel free to experiment with it before you write the function.\n",
        "\n",
        "__Note 2:__ compute_td_loss is a source of 99% of bugs in this homework. If reward doesn't improve, it often helps to go through it line by line [with a rubber duck](https://rubberduckdebugging.com/)."
      ]
    },
    {
      "cell_type": "code",
      "metadata": {
        "id": "hTBEwy8MzfAX"
      },
      "source": [
        "def compute_td_loss(states, actions, rewards, next_states, is_done,\n",
        "                    agent, target_network,\n",
        "                    gamma=0.99,\n",
        "                    check_shapes=False,\n",
        "                    device=device):\n",
        "    \"\"\" Compute td loss using torch operations only. Use the formulae above. \"\"\"\n",
        "    states = torch.tensor(states, device=device, dtype=torch.float)    # shape: [batch_size, *state_shape]\n",
        "\n",
        "    # for some torch reason should not make actions a tensor\n",
        "    actions = torch.tensor(actions, device=device, dtype=torch.long)    # shape: [batch_size]\n",
        "    rewards = torch.tensor(rewards, device=device, dtype=torch.float)  # shape: [batch_size]\n",
        "    # shape: [batch_size, *state_shape]\n",
        "    next_states = torch.tensor(next_states, device=device, dtype=torch.float)\n",
        "    is_done = torch.tensor(\n",
        "        is_done.astype('float32'),\n",
        "        device=device,\n",
        "        dtype=torch.float\n",
        "    )  # shape: [batch_size]\n",
        "    is_not_done = 1 - is_done\n",
        "\n",
        "    # get q-values for all actions in current states\n",
        "    predicted_qvalues = agent(states)\n",
        "\n",
        "    # compute q-values for all actions in next states\n",
        "    predicted_next_qvalues = target_network(next_states)\n",
        "    \n",
        "    # select q-values for chosen actions\n",
        "    predicted_qvalues_for_actions = predicted_qvalues[range(\n",
        "        len(actions)), actions]\n",
        "\n",
        "    # compute V*(next_states) using predicted next q-values\n",
        "    next_state_values, _ = torch.max(predicted_next_qvalues, dim = -1)\n",
        "    assert next_state_values.dim(\n",
        "    ) == 1 and next_state_values.shape[0] == states.shape[0], \"must predict one value per state\"\n",
        "\n",
        "    # compute \"target q-values\" for loss - it's what's inside square parentheses in the above formula.\n",
        "    # at the last state use the simplified formula: Q(s,a) = r(s,a) since s' doesn't exist\n",
        "    # you can multiply next state values by is_not_done to achieve this.\n",
        "    target_qvalues_for_actions = rewards + gamma * is_not_done*next_state_values\n",
        "\n",
        "    # mean squared error loss to minimize\n",
        "    loss = torch.mean((predicted_qvalues_for_actions -\n",
        "                       target_qvalues_for_actions.detach()) ** 2)\n",
        "\n",
        "    if check_shapes:\n",
        "        assert predicted_next_qvalues.data.dim(\n",
        "        ) == 2, \"make sure you predicted q-values for all actions in next state\"\n",
        "        assert next_state_values.data.dim(\n",
        "        ) == 1, \"make sure you computed V(s') as maximum over just the actions axis and not all axes\"\n",
        "        assert target_qvalues_for_actions.data.dim(\n",
        "        ) == 1, \"there's something wrong with target q-values, they must be a vector\"\n",
        "    return loss"
      ],
      "execution_count": 23,
      "outputs": []
    },
    {
      "cell_type": "markdown",
      "metadata": {
        "id": "e5ksRLaHzfAY"
      },
      "source": [
        "Sanity checks"
      ]
    },
    {
      "cell_type": "code",
      "metadata": {
        "id": "1Pu1hSCZzfAY"
      },
      "source": [
        "obs_batch, act_batch, reward_batch, next_obs_batch, is_done_batch = exp_replay.sample(\n",
        "    12)\n",
        "\n",
        "loss = compute_td_loss(obs_batch, act_batch, reward_batch, next_obs_batch, is_done_batch,\n",
        "                       agent, target_network,\n",
        "                       gamma=0.99, check_shapes=True)\n",
        "loss.backward()\n",
        "\n",
        "assert loss.requires_grad and tuple(loss.data.size()) == (\n",
        "    ), \"you must return scalar loss - mean over batch\"\n",
        "assert np.any(next(agent.parameters()).grad.data.cpu().numpy() !=\n",
        "              0), \"loss must be differentiable w.r.t. network weights\"\n",
        "assert np.all(next(target_network.parameters()).grad is None), \"target network should not have grads\""
      ],
      "execution_count": 24,
      "outputs": []
    },
    {
      "cell_type": "markdown",
      "metadata": {
        "id": "k7DUdOOPzfAY"
      },
      "source": [
        "## Main loop\n",
        "\n",
        "\n",
        "It's time to put everything together and see if it learns anything."
      ]
    },
    {
      "cell_type": "code",
      "metadata": {
        "id": "jOTIeK-FzfAZ"
      },
      "source": [
        "from tqdm import trange\n",
        "from IPython.display import clear_output\n",
        "import matplotlib.pyplot as plt"
      ],
      "execution_count": 25,
      "outputs": []
    },
    {
      "cell_type": "code",
      "metadata": {
        "id": "dBTJTkc0zfAZ",
        "colab": {
          "base_uri": "https://localhost:8080/"
        },
        "outputId": "f4e027cc-073c-4ca8-ec0e-516eec3c06b7"
      },
      "source": [
        "seed = 7\n",
        "random.seed(seed)\n",
        "np.random.seed(seed)\n",
        "torch.manual_seed(seed)"
      ],
      "execution_count": 26,
      "outputs": [
        {
          "output_type": "execute_result",
          "data": {
            "text/plain": [
              "<torch._C.Generator at 0x7fb0e6161b50>"
            ]
          },
          "metadata": {
            "tags": []
          },
          "execution_count": 26
        }
      ]
    },
    {
      "cell_type": "code",
      "metadata": {
        "id": "eB87kbaIzfAZ",
        "colab": {
          "base_uri": "https://localhost:8080/"
        },
        "outputId": "3630e029-8d77-4ffc-cbfd-a74fdad398db"
      },
      "source": [
        "env = make_env(seed)\n",
        "state_shape = env.observation_space.shape\n",
        "n_actions = env.action_space.n\n",
        "state = env.reset()\n",
        "\n",
        "agent = DQNAgent(state_shape, n_actions, epsilon=1).to(device)\n",
        "target_network = DQNAgent(state_shape, n_actions).to(device)\n",
        "target_network.load_state_dict(agent.state_dict())"
      ],
      "execution_count": 27,
      "outputs": [
        {
          "output_type": "execute_result",
          "data": {
            "text/plain": [
              "<All keys matched successfully>"
            ]
          },
          "metadata": {
            "tags": []
          },
          "execution_count": 27
        }
      ]
    },
    {
      "cell_type": "markdown",
      "metadata": {
        "id": "2BUTqz1bzfAa"
      },
      "source": [
        "Buffer of size $10^4$ fits into 5 Gb RAM.\n",
        "\n",
        "Larger sizes ($10^5$ and $10^6$ are common) can be used. It can improve the learning, but $10^4$ is quiet enough. $10^2$ will probably fail learning."
      ]
    },
    {
      "cell_type": "code",
      "metadata": {
        "id": "-4UfHTG6zfAa",
        "colab": {
          "base_uri": "https://localhost:8080/"
        },
        "outputId": "e3e8ee19-0e11-4fa7-908e-52a93ec660e3"
      },
      "source": [
        "exp_replay = ReplayBuffer(10**4)\n",
        "for i in range(100):\n",
        "    if not utils.is_enough_ram(min_available_gb=0.1):\n",
        "        print(\"\"\"\n",
        "            Less than 100 Mb RAM available. \n",
        "            Make sure the buffer size in not too huge.\n",
        "            Also check, maybe other processes consume RAM heavily.\n",
        "            \"\"\"\n",
        "             )\n",
        "        break\n",
        "    play_and_record(state, agent, env, exp_replay, n_steps=10**2)\n",
        "    if len(exp_replay) == 10**4:\n",
        "        break\n",
        "print(len(exp_replay))"
      ],
      "execution_count": 28,
      "outputs": [
        {
          "output_type": "stream",
          "text": [
            "10000\n"
          ],
          "name": "stdout"
        }
      ]
    },
    {
      "cell_type": "code",
      "metadata": {
        "id": "j-H99-h8zfAa"
      },
      "source": [
        "timesteps_per_epoch = 1\n",
        "batch_size = 128\n",
        "total_steps = 3 * 10**6\n",
        "decay_steps = 10**6\n",
        "\n",
        "opt = torch.optim.Adam(agent.parameters(), lr=1e-4)\n",
        "\n",
        "init_epsilon = 1\n",
        "final_epsilon = 0.1\n",
        "\n",
        "loss_freq = 50\n",
        "refresh_target_network_freq = 5000\n",
        "eval_freq = 5000\n",
        "\n",
        "max_grad_norm = 50\n",
        "\n",
        "n_lives = 5"
      ],
      "execution_count": 29,
      "outputs": []
    },
    {
      "cell_type": "code",
      "metadata": {
        "id": "aKRSIY7PzfAb"
      },
      "source": [
        "mean_rw_history = []\n",
        "td_loss_history = []\n",
        "grad_norm_history = []\n",
        "initial_state_v_history = []\n",
        "step = 0"
      ],
      "execution_count": 30,
      "outputs": []
    },
    {
      "cell_type": "code",
      "metadata": {
        "id": "oET2jpu9zfAb",
        "colab": {
          "base_uri": "https://localhost:8080/",
          "height": 1000
        },
        "outputId": "1384dfcd-31dd-4add-eece-a7abc7612324"
      },
      "source": [
        "state = env.reset()\n",
        "for step in trange(step, total_steps + 1):\n",
        "    if not utils.is_enough_ram():\n",
        "        print('less that 100 Mb RAM available, freezing')\n",
        "        print('make sure everythin is ok and make KeyboardInterrupt to continue')\n",
        "        try:\n",
        "            while True:\n",
        "                pass\n",
        "        except KeyboardInterrupt:\n",
        "            pass\n",
        "\n",
        "    #agent.epsilon = utils.linear_decay(init_epsilon, final_epsilon, step, decay_steps)\n",
        "\n",
        "    # play\n",
        "    _, state = play_and_record(state, agent, env, exp_replay, timesteps_per_epoch)\n",
        "\n",
        "    # train\n",
        "    obs_batch, act_batch, reward_batch, next_obs_batch, is_done_batch = exp_replay.sample(batch_size)\n",
        "\n",
        "    loss = compute_td_loss(obs_batch, act_batch, reward_batch, next_obs_batch, is_done_batch,\n",
        "                       agent, target_network,\n",
        "                       gamma=0.99, check_shapes=False)\n",
        "\n",
        "    loss.backward()\n",
        "    grad_norm = nn.utils.clip_grad_norm_(agent.parameters(), max_grad_norm)\n",
        "    opt.step()\n",
        "    opt.zero_grad()\n",
        "    if np.mean(mean_rw_history[-10:]) > 3. : break\n",
        "\n",
        "    if step % loss_freq == 0:\n",
        "        td_loss_history.append(loss.data.cpu().item())\n",
        "        grad_norm_history.append(grad_norm)\n",
        "\n",
        "    if step % refresh_target_network_freq == 0:\n",
        "        target_network.load_state_dict(agent.state_dict())\n",
        "        \n",
        "\n",
        "    if step % eval_freq == 0:\n",
        "        agent.epsilon = max(agent.epsilon * 0.985, 0.01)\n",
        "        mean_rw_history.append(evaluate(\n",
        "            make_env(clip_rewards=True, seed=step), agent, n_games=3 * n_lives, greedy=True)\n",
        "        )\n",
        "        initial_state_q_values = agent.get_qvalues(\n",
        "            [make_env(seed=step).reset()]\n",
        "        )\n",
        "        initial_state_v_history.append(np.max(initial_state_q_values))\n",
        "\n",
        "        clear_output(True)\n",
        "        print(\"buffer size = %i, epsilon = %.5f\" %\n",
        "              (len(exp_replay), agent.epsilon))\n",
        "\n",
        "        plt.figure(figsize=[16, 9])\n",
        "\n",
        "        plt.subplot(2, 2, 1)\n",
        "        plt.title(\"Mean reward per life\")\n",
        "        plt.plot(mean_rw_history)\n",
        "        plt.grid()\n",
        "\n",
        "        assert not np.isnan(td_loss_history[-1])\n",
        "        plt.subplot(2, 2, 2)\n",
        "        plt.title(\"TD loss history (smoothened)\")\n",
        "        plt.plot(utils.smoothen(td_loss_history))\n",
        "        plt.grid()\n",
        "\n",
        "        plt.subplot(2, 2, 3)\n",
        "        plt.title(\"Initial state V\")\n",
        "        plt.plot(initial_state_v_history)\n",
        "        plt.grid()\n",
        "\n",
        "        plt.subplot(2, 2, 4)\n",
        "        plt.title(\"Grad norm history (smoothened)\")\n",
        "        plt.plot(utils.smoothen(grad_norm_history))\n",
        "        plt.grid()\n",
        "\n",
        "        plt.show()"
      ],
      "execution_count": 33,
      "outputs": [
        {
          "output_type": "stream",
          "text": [
            "buffer size = 10000, epsilon = 0.80930\n"
          ],
          "name": "stdout"
        },
        {
          "output_type": "display_data",
          "data": {
            "image/png": "[encoded data removed]",
            "text/plain": [
              "<Figure size 1152x648 with 4 Axes>"
            ]
          },
          "metadata": {
            "tags": [],
            "needs_background": "light"
          }
        },
        {
          "output_type": "stream",
          "text": [
            "\n",
            "  1%|▏         | 44190/2979190 [17:58<267:55:09,  3.04it/s]\u001b[A\n",
            "  1%|▏         | 44195/2979190 [17:58<193:16:51,  4.22it/s]\u001b[A\n",
            "  1%|▏         | 44199/2979190 [17:58<142:05:31,  5.74it/s]\u001b[A\n",
            "  1%|▏         | 44204/2979190 [17:58<104:47:09,  7.78it/s]\u001b[A\n",
            "  1%|▏         | 44209/2979190 [17:58<78:42:42, 10.36it/s] \u001b[A\n",
            "  1%|▏         | 44214/2979190 [17:58<60:38:21, 13.44it/s]\u001b[A\n",
            "  1%|▏         | 44219/2979190 [17:59<48:16:50, 16.89it/s]\u001b[A\n",
            "  1%|▏         | 44224/2979190 [17:59<39:34:17, 20.60it/s]\u001b[A\n",
            "  1%|▏         | 44229/2979190 [17:59<33:18:52, 24.47it/s]\u001b[A\n",
            "  1%|▏         | 44234/2979190 [17:59<29:00:45, 28.10it/s]\u001b[A\n",
            "  1%|▏         | 44239/2979190 [17:59<25:56:08, 31.43it/s]\u001b[A\n",
            "  1%|▏         | 44244/2979190 [17:59<23:41:15, 34.42it/s]\u001b[A\n",
            "  1%|▏         | 44249/2979190 [17:59<22:06:41, 36.87it/s]\u001b[A\n",
            "  1%|▏         | 44254/2979190 [17:59<21:01:59, 38.76it/s]\u001b[A\n",
            "  1%|▏         | 44259/2979190 [17:59<20:21:20, 40.05it/s]\u001b[A\n",
            "  1%|▏         | 44264/2979190 [18:00<20:08:10, 40.49it/s]\u001b[A\n",
            "  1%|▏         | 44269/2979190 [18:00<19:44:26, 41.30it/s]\u001b[A\n",
            "  1%|▏         | 44274/2979190 [18:00<19:35:38, 41.61it/s]\u001b[A\n",
            "  1%|▏         | 44279/2979190 [18:00<19:16:37, 42.29it/s]\u001b[A\n",
            "  1%|▏         | 44284/2979190 [18:00<19:09:57, 42.54it/s]\u001b[A\n",
            "  1%|▏         | 44289/2979190 [18:00<19:22:40, 42.07it/s]\u001b[A\n",
            "  1%|▏         | 44294/2979190 [18:00<19:27:10, 41.91it/s]\u001b[A\n",
            "  1%|▏         | 44299/2979190 [18:00<19:25:51, 41.96it/s]\u001b[A\n",
            "  1%|▏         | 44304/2979190 [18:01<19:22:50, 42.06it/s]\u001b[A\n",
            "  1%|▏         | 44309/2979190 [18:01<19:09:46, 42.54it/s]\u001b[A\n",
            "  1%|▏         | 44314/2979190 [18:01<18:55:24, 43.08it/s]\u001b[A\n",
            "  1%|▏         | 44319/2979190 [18:01<18:51:35, 43.23it/s]\u001b[A\n",
            "  1%|▏         | 44324/2979190 [18:01<18:41:35, 43.61it/s]\u001b[A\n",
            "  1%|▏         | 44329/2979190 [18:01<18:38:45, 43.72it/s]\u001b[A\n",
            "  1%|▏         | 44334/2979190 [18:01<18:39:06, 43.71it/s]\u001b[A\n",
            "  1%|▏         | 44339/2979190 [18:01<19:07:23, 42.63it/s]\u001b[A\n",
            "  1%|▏         | 44344/2979190 [18:01<18:55:42, 43.07it/s]\u001b[A\n",
            "  1%|▏         | 44349/2979190 [18:02<18:43:34, 43.53it/s]\u001b[A\n",
            "  1%|▏         | 44354/2979190 [18:02<18:29:41, 44.08it/s]\u001b[A\n",
            "  1%|▏         | 44359/2979190 [18:02<18:23:27, 44.33it/s]\u001b[A\n",
            "  1%|▏         | 44364/2979190 [18:02<18:28:19, 44.13it/s]\u001b[A\n",
            "  1%|▏         | 44369/2979190 [18:02<18:25:40, 44.24it/s]\u001b[A\n",
            "  1%|▏         | 44374/2979190 [18:02<18:27:31, 44.17it/s]\u001b[A\n",
            "  1%|▏         | 44379/2979190 [18:02<18:32:11, 43.98it/s]\u001b[A\n",
            "  1%|▏         | 44384/2979190 [18:02<18:38:00, 43.75it/s]\u001b[A\n",
            "  1%|▏         | 44389/2979190 [18:02<18:30:32, 44.04it/s]\u001b[A\n",
            "  1%|▏         | 44394/2979190 [18:03<18:31:22, 44.01it/s]\u001b[A\n",
            "  1%|▏         | 44399/2979190 [18:03<18:38:46, 43.72it/s]\u001b[A\n",
            "  1%|▏         | 44404/2979190 [18:03<18:39:53, 43.68it/s]\u001b[A\n",
            "  1%|▏         | 44409/2979190 [18:03<18:40:50, 43.64it/s]\u001b[A\n",
            "  1%|▏         | 44414/2979190 [18:03<18:35:01, 43.87it/s]\u001b[A\n",
            "  1%|▏         | 44419/2979190 [18:03<18:31:29, 44.01it/s]\u001b[A\n",
            "  1%|▏         | 44424/2979190 [18:03<18:30:56, 44.03it/s]\u001b[A\n",
            "  1%|▏         | 44429/2979190 [18:03<18:38:54, 43.71it/s]\u001b[A\n",
            "  1%|▏         | 44434/2979190 [18:04<18:51:52, 43.21it/s]\u001b[A\n",
            "  1%|▏         | 44439/2979190 [18:04<19:09:04, 42.57it/s]\u001b[A\n",
            "  1%|▏         | 44444/2979190 [18:04<19:16:48, 42.28it/s]\u001b[A\n",
            "  1%|▏         | 44449/2979190 [18:04<19:22:55, 42.06it/s]\u001b[A\n",
            "  1%|▏         | 44454/2979190 [18:04<19:17:15, 42.27it/s]\u001b[A\n",
            "  1%|▏         | 44459/2979190 [18:04<19:09:12, 42.56it/s]\u001b[A\n",
            "  1%|▏         | 44464/2979190 [18:04<18:55:02, 43.09it/s]\u001b[A\n",
            "  1%|▏         | 44469/2979190 [18:04<18:48:59, 43.32it/s]\u001b[A\n",
            "  1%|▏         | 44474/2979190 [18:04<18:48:40, 43.34it/s]\u001b[A\n",
            "  1%|▏         | 44479/2979190 [18:05<18:33:03, 43.94it/s]\u001b[A\n",
            "  1%|▏         | 44484/2979190 [18:05<18:40:11, 43.66it/s]\u001b[A\n",
            "  1%|▏         | 44489/2979190 [18:05<18:35:44, 43.84it/s]\u001b[A\n",
            "  1%|▏         | 44494/2979190 [18:05<18:23:55, 44.31it/s]\u001b[A\n",
            "  1%|▏         | 44499/2979190 [18:05<18:44:19, 43.50it/s]\u001b[A\n",
            "  1%|▏         | 44504/2979190 [18:05<18:22:51, 44.35it/s]\u001b[A\n",
            "  1%|▏         | 44509/2979190 [18:05<18:10:01, 44.87it/s]\u001b[A\n",
            "  1%|▏         | 44514/2979190 [18:05<18:06:58, 45.00it/s]\u001b[A\n",
            "  1%|▏         | 44519/2979190 [18:05<18:07:27, 44.98it/s]\u001b[A\n",
            "  1%|▏         | 44524/2979190 [18:06<18:10:40, 44.84it/s]\u001b[A\n",
            "  1%|▏         | 44529/2979190 [18:06<18:19:55, 44.47it/s]\u001b[A\n",
            "  1%|▏         | 44534/2979190 [18:06<18:03:25, 45.14it/s]\u001b[A\n",
            "  1%|▏         | 44539/2979190 [18:06<17:46:06, 45.88it/s]\u001b[A\n",
            "  1%|▏         | 44544/2979190 [18:06<17:34:12, 46.40it/s]\u001b[A\n",
            "  1%|▏         | 44549/2979190 [18:06<17:29:48, 46.59it/s]\u001b[A\n",
            "  1%|▏         | 44554/2979190 [18:06<17:48:39, 45.77it/s]\u001b[A\n",
            "  1%|▏         | 44559/2979190 [18:06<17:45:41, 45.90it/s]\u001b[A\n",
            "  1%|▏         | 44564/2979190 [18:06<17:49:43, 45.72it/s]\u001b[A\n",
            "  1%|▏         | 44569/2979190 [18:07<17:45:10, 45.92it/s]\u001b[A\n",
            "  1%|▏         | 44574/2979190 [18:07<17:54:16, 45.53it/s]\u001b[A\n",
            "  1%|▏         | 44579/2979190 [18:07<17:54:36, 45.51it/s]\u001b[A\n",
            "  1%|▏         | 44584/2979190 [18:07<18:01:59, 45.20it/s]\u001b[A\n",
            "  1%|▏         | 44589/2979190 [18:07<18:03:51, 45.13it/s]\u001b[A\n",
            "  1%|▏         | 44594/2979190 [18:07<18:02:41, 45.17it/s]\u001b[A\n",
            "  1%|▏         | 44599/2979190 [18:07<18:07:55, 44.96it/s]\u001b[A\n",
            "  1%|▏         | 44604/2979190 [18:07<18:03:14, 45.15it/s]\u001b[A\n",
            "  1%|▏         | 44609/2979190 [18:07<18:10:54, 44.83it/s]\u001b[A\n",
            "  1%|▏         | 44614/2979190 [18:08<18:17:33, 44.56it/s]\u001b[A\n",
            "  1%|▏         | 44619/2979190 [18:08<18:35:27, 43.85it/s]\u001b[A\n",
            "  1%|▏         | 44624/2979190 [18:08<18:23:47, 44.31it/s]\u001b[A\n",
            "  1%|▏         | 44629/2979190 [18:08<18:12:53, 44.75it/s]\u001b[A\n",
            "  1%|▏         | 44634/2979190 [18:08<18:02:28, 45.18it/s]\u001b[A\n",
            "  1%|▏         | 44639/2979190 [18:08<17:49:54, 45.71it/s]\u001b[A\n",
            "  1%|▏         | 44644/2979190 [18:08<18:16:23, 44.61it/s]\u001b[A\n",
            "  1%|▏         | 44649/2979190 [18:08<18:03:02, 45.16it/s]\u001b[A\n",
            "  1%|▏         | 44654/2979190 [18:08<18:03:07, 45.16it/s]\u001b[A\n",
            "  1%|▏         | 44659/2979190 [18:09<17:59:27, 45.31it/s]\u001b[A\n",
            "  1%|▏         | 44664/2979190 [18:09<17:52:30, 45.60it/s]\u001b[A\n",
            "  1%|▏         | 44669/2979190 [18:09<17:57:45, 45.38it/s]\u001b[A\n",
            "  1%|▏         | 44674/2979190 [18:09<17:44:45, 45.93it/s]\u001b[A\n",
            "  1%|▏         | 44679/2979190 [18:09<17:35:06, 46.35it/s]\u001b[A\n",
            "  1%|▏         | 44684/2979190 [18:09<17:31:49, 46.50it/s]\u001b[A\n",
            "  2%|▏         | 44689/2979190 [18:09<17:34:58, 46.36it/s]\u001b[A\n",
            "  2%|▏         | 44694/2979190 [18:09<17:38:02, 46.23it/s]\u001b[A\n",
            "  2%|▏         | 44699/2979190 [18:09<17:41:56, 46.06it/s]\u001b[A\n",
            "  2%|▏         | 44704/2979190 [18:10<17:30:17, 46.57it/s]\u001b[A\n",
            "  2%|▏         | 44709/2979190 [18:10<17:30:36, 46.55it/s]\u001b[A\n",
            "  2%|▏         | 44714/2979190 [18:10<17:41:45, 46.06it/s]\u001b[A\n",
            "  2%|▏         | 44719/2979190 [18:10<18:00:33, 45.26it/s]\u001b[A\n",
            "  2%|▏         | 44724/2979190 [18:10<17:54:17, 45.53it/s]\u001b[A\n",
            "  2%|▏         | 44729/2979190 [18:10<17:54:30, 45.52it/s]\u001b[A\n",
            "  2%|▏         | 44734/2979190 [18:10<18:05:14, 45.07it/s]\u001b[A\n",
            "  2%|▏         | 44739/2979190 [18:10<18:08:29, 44.93it/s]\u001b[A\n",
            "  2%|▏         | 44744/2979190 [18:10<18:12:44, 44.76it/s]\u001b[A\n",
            "  2%|▏         | 44749/2979190 [18:11<18:17:00, 44.58it/s]\u001b[A\n",
            "  2%|▏         | 44754/2979190 [18:11<18:31:45, 43.99it/s]\u001b[A\n",
            "  2%|▏         | 44759/2979190 [18:11<18:33:24, 43.93it/s]\u001b[A\n",
            "  2%|▏         | 44764/2979190 [18:11<18:16:28, 44.60it/s]\u001b[A\n",
            "  2%|▏         | 44769/2979190 [18:11<18:15:37, 44.64it/s]\u001b[A\n",
            "  2%|▏         | 44774/2979190 [18:11<18:03:29, 45.14it/s]\u001b[A\n",
            "  2%|▏         | 44779/2979190 [18:11<17:59:09, 45.32it/s]\u001b[A\n",
            "  2%|▏         | 44784/2979190 [18:11<18:10:24, 44.85it/s]\u001b[A\n",
            "  2%|▏         | 44789/2979190 [18:11<18:45:23, 43.46it/s]\u001b[A\n",
            "  2%|▏         | 44794/2979190 [18:12<18:31:08, 44.02it/s]\u001b[A\n",
            "  2%|▏         | 44799/2979190 [18:12<18:13:00, 44.75it/s]\u001b[A\n",
            "  2%|▏         | 44804/2979190 [18:12<18:16:16, 44.61it/s]\u001b[A\n",
            "  2%|▏         | 44809/2979190 [18:12<18:18:45, 44.51it/s]\u001b[A\n",
            "  2%|▏         | 44814/2979190 [18:12<18:36:45, 43.79it/s]\u001b[A\n",
            "  2%|▏         | 44819/2979190 [18:12<18:28:32, 44.12it/s]\u001b[A\n",
            "  2%|▏         | 44824/2979190 [18:12<18:26:27, 44.20it/s]\u001b[A\n",
            "  2%|▏         | 44829/2979190 [18:12<18:26:29, 44.20it/s]\u001b[A\n",
            "  2%|▏         | 44834/2979190 [18:12<18:50:31, 43.26it/s]\u001b[A\n",
            "  2%|▏         | 44839/2979190 [18:13<18:34:53, 43.87it/s]\u001b[A\n",
            "  2%|▏         | 44844/2979190 [18:13<18:26:07, 44.21it/s]\u001b[A\n",
            "  2%|▏         | 44849/2979190 [18:13<18:44:45, 43.48it/s]\u001b[A\n",
            "  2%|▏         | 44854/2979190 [18:13<18:28:45, 44.11it/s]\u001b[A\n",
            "  2%|▏         | 44859/2979190 [18:13<18:27:03, 44.18it/s]\u001b[A\n",
            "  2%|▏         | 44864/2979190 [18:13<18:26:12, 44.21it/s]\u001b[A\n",
            "  2%|▏         | 44869/2979190 [18:13<18:17:58, 44.54it/s]\u001b[A\n",
            "  2%|▏         | 44874/2979190 [18:13<18:20:12, 44.45it/s]\u001b[A\n",
            "  2%|▏         | 44879/2979190 [18:13<18:28:54, 44.10it/s]\u001b[A\n",
            "  2%|▏         | 44884/2979190 [18:14<18:16:13, 44.61it/s]\u001b[A\n",
            "  2%|▏         | 44889/2979190 [18:14<18:05:42, 45.04it/s]\u001b[A\n",
            "  2%|▏         | 44894/2979190 [18:14<18:08:06, 44.94it/s]\u001b[A\n",
            "  2%|▏         | 44899/2979190 [18:14<18:32:32, 43.96it/s]\u001b[A\n",
            "  2%|▏         | 44904/2979190 [18:14<18:26:20, 44.20it/s]\u001b[A\n",
            "  2%|▏         | 44909/2979190 [18:14<18:26:29, 44.20it/s]\u001b[A\n",
            "  2%|▏         | 44914/2979190 [18:14<18:22:53, 44.34it/s]\u001b[A\n",
            "  2%|▏         | 44919/2979190 [18:14<18:31:39, 43.99it/s]\u001b[A\n",
            "  2%|▏         | 44924/2979190 [18:14<18:34:19, 43.89it/s]\u001b[A\n",
            "  2%|▏         | 44929/2979190 [18:15<18:14:32, 44.68it/s]\u001b[A\n",
            "  2%|▏         | 44934/2979190 [18:15<18:05:23, 45.06it/s]\u001b[A\n",
            "  2%|▏         | 44939/2979190 [18:15<18:06:29, 45.01it/s]\u001b[A\n",
            "  2%|▏         | 44944/2979190 [18:15<18:24:58, 44.26it/s]\u001b[A\n",
            "  2%|▏         | 44949/2979190 [18:15<18:15:39, 44.63it/s]\u001b[A\n",
            "  2%|▏         | 44954/2979190 [18:15<18:20:34, 44.44it/s]\u001b[A\n",
            "  2%|▏         | 44959/2979190 [18:15<18:22:42, 44.35it/s]\u001b[A\n",
            "  2%|▏         | 44964/2979190 [18:15<18:12:50, 44.75it/s]\u001b[A\n",
            "  2%|▏         | 44969/2979190 [18:15<18:04:20, 45.10it/s]\u001b[A\n",
            "  2%|▏         | 44974/2979190 [18:16<17:57:10, 45.40it/s]\u001b[A\n",
            "  2%|▏         | 44979/2979190 [18:16<18:02:44, 45.17it/s]\u001b[A\n",
            "  2%|▏         | 44984/2979190 [18:16<18:11:05, 44.82it/s]\u001b[A\n",
            "  2%|▏         | 44989/2979190 [18:16<17:57:36, 45.38it/s]\u001b[A\n",
            "  2%|▏         | 44994/2979190 [18:16<17:53:36, 45.55it/s]\u001b[A\n",
            "  2%|▏         | 44999/2979190 [18:16<17:43:54, 45.97it/s]\u001b[A\n",
            "  2%|▏         | 45004/2979190 [18:16<17:42:59, 46.01it/s]\u001b[A\n",
            "  2%|▏         | 45009/2979190 [18:16<17:41:08, 46.08it/s]\u001b[A\n",
            "  2%|▏         | 45014/2979190 [18:16<17:40:00, 46.13it/s]\u001b[A\n",
            "  2%|▏         | 45019/2979190 [18:17<17:46:46, 45.84it/s]\u001b[A\n",
            "  2%|▏         | 45024/2979190 [18:17<17:46:02, 45.87it/s]\u001b[A\n",
            "  2%|▏         | 45029/2979190 [18:17<18:03:16, 45.14it/s]\u001b[A\n",
            "  2%|▏         | 45034/2979190 [18:17<18:06:40, 45.00it/s]\u001b[A\n",
            "  2%|▏         | 45039/2979190 [18:17<18:02:20, 45.18it/s]\u001b[A\n",
            "  2%|▏         | 45044/2979190 [18:17<17:46:19, 45.86it/s]\u001b[A\n",
            "  2%|▏         | 45049/2979190 [18:17<17:37:15, 46.25it/s]\u001b[A\n",
            "  2%|▏         | 45054/2979190 [18:17<17:33:49, 46.40it/s]\u001b[A\n",
            "  2%|▏         | 45059/2979190 [18:17<17:39:53, 46.14it/s]\u001b[A\n",
            "  2%|▏         | 45064/2979190 [18:18<17:53:19, 45.56it/s]\u001b[A\n",
            "  2%|▏         | 45069/2979190 [18:18<17:48:02, 45.79it/s]\u001b[A\n",
            "  2%|▏         | 45074/2979190 [18:18<18:07:52, 44.95it/s]\u001b[A\n",
            "  2%|▏         | 45079/2979190 [18:18<18:08:39, 44.92it/s]\u001b[A\n",
            "  2%|▏         | 45084/2979190 [18:18<18:30:09, 44.05it/s]\u001b[A\n",
            "  2%|▏         | 45089/2979190 [18:18<18:03:33, 45.13it/s]\u001b[A\n",
            "  2%|▏         | 45094/2979190 [18:18<17:43:50, 45.97it/s]\u001b[A\n",
            "  2%|▏         | 45099/2979190 [18:18<17:41:09, 46.08it/s]\u001b[A\n",
            "  2%|▏         | 45104/2979190 [18:18<17:31:29, 46.51it/s]\u001b[A\n",
            "  2%|▏         | 45109/2979190 [18:19<17:40:58, 46.09it/s]\u001b[A\n",
            "  2%|▏         | 45114/2979190 [18:19<17:41:35, 46.06it/s]\u001b[A\n",
            "  2%|▏         | 45119/2979190 [18:19<17:38:10, 46.21it/s]\u001b[A\n",
            "  2%|▏         | 45124/2979190 [18:19<17:50:58, 45.66it/s]\u001b[A\n",
            "  2%|▏         | 45129/2979190 [18:19<17:42:46, 46.01it/s]\u001b[A\n",
            "  2%|▏         | 45134/2979190 [18:19<18:35:01, 43.86it/s]\u001b[A\n",
            "  2%|▏         | 45139/2979190 [18:19<18:26:21, 44.20it/s]\u001b[A"
          ],
          "name": "stderr"
        },
        {
          "output_type": "error",
          "ename": "KeyboardInterrupt",
          "evalue": "ignored",
          "traceback": [
            "\u001b[0;31m---------------------------------------------------------------------------\u001b[0m",
            "\u001b[0;31mKeyboardInterrupt\u001b[0m                         Traceback (most recent call last)",
            "\u001b[0;32m<ipython-input-33-a71a65c8680c>\u001b[0m in \u001b[0;36m<module>\u001b[0;34m()\u001b[0m\n\u001b[1;32m     13\u001b[0m \u001b[0;34m\u001b[0m\u001b[0m\n\u001b[1;32m     14\u001b[0m     \u001b[0;31m# play\u001b[0m\u001b[0;34m\u001b[0m\u001b[0;34m\u001b[0m\u001b[0;34m\u001b[0m\u001b[0m\n\u001b[0;32m---> 15\u001b[0;31m     \u001b[0m_\u001b[0m\u001b[0;34m,\u001b[0m \u001b[0mstate\u001b[0m \u001b[0;34m=\u001b[0m \u001b[0mplay_and_record\u001b[0m\u001b[0;34m(\u001b[0m\u001b[0mstate\u001b[0m\u001b[0;34m,\u001b[0m \u001b[0magent\u001b[0m\u001b[0;34m,\u001b[0m \u001b[0menv\u001b[0m\u001b[0;34m,\u001b[0m \u001b[0mexp_replay\u001b[0m\u001b[0;34m,\u001b[0m \u001b[0mtimesteps_per_epoch\u001b[0m\u001b[0;34m)\u001b[0m\u001b[0;34m\u001b[0m\u001b[0;34m\u001b[0m\u001b[0m\n\u001b[0m\u001b[1;32m     16\u001b[0m \u001b[0;34m\u001b[0m\u001b[0m\n\u001b[1;32m     17\u001b[0m     \u001b[0;31m# train\u001b[0m\u001b[0;34m\u001b[0m\u001b[0;34m\u001b[0m\u001b[0;34m\u001b[0m\u001b[0m\n",
            "\u001b[0;32m<ipython-input-20-a7fc45a02c56>\u001b[0m in \u001b[0;36mplay_and_record\u001b[0;34m(initial_state, agent, env, exp_replay, n_steps)\u001b[0m\n\u001b[1;32m     15\u001b[0m     \u001b[0;31m# Play the game for n_steps as per instructions above\u001b[0m\u001b[0;34m\u001b[0m\u001b[0;34m\u001b[0m\u001b[0;34m\u001b[0m\u001b[0m\n\u001b[1;32m     16\u001b[0m     \u001b[0;32mfor\u001b[0m \u001b[0mi\u001b[0m \u001b[0;32min\u001b[0m \u001b[0mrange\u001b[0m\u001b[0;34m(\u001b[0m\u001b[0;36m0\u001b[0m\u001b[0;34m,\u001b[0m \u001b[0mn_steps\u001b[0m\u001b[0;34m)\u001b[0m\u001b[0;34m:\u001b[0m\u001b[0;34m\u001b[0m\u001b[0;34m\u001b[0m\u001b[0m\n\u001b[0;32m---> 17\u001b[0;31m       \u001b[0mqvalues\u001b[0m \u001b[0;34m=\u001b[0m \u001b[0magent\u001b[0m\u001b[0;34m.\u001b[0m\u001b[0mget_qvalues\u001b[0m\u001b[0;34m(\u001b[0m\u001b[0;34m[\u001b[0m\u001b[0ms\u001b[0m\u001b[0;34m]\u001b[0m\u001b[0;34m)\u001b[0m\u001b[0;34m\u001b[0m\u001b[0;34m\u001b[0m\u001b[0m\n\u001b[0m\u001b[1;32m     18\u001b[0m       \u001b[0maction\u001b[0m \u001b[0;34m=\u001b[0m \u001b[0magent\u001b[0m\u001b[0;34m.\u001b[0m\u001b[0msample_actions\u001b[0m\u001b[0;34m(\u001b[0m\u001b[0mqvalues\u001b[0m\u001b[0;34m)\u001b[0m\u001b[0;34m[\u001b[0m\u001b[0;36m0\u001b[0m\u001b[0;34m]\u001b[0m\u001b[0;34m\u001b[0m\u001b[0;34m\u001b[0m\u001b[0m\n\u001b[1;32m     19\u001b[0m       \u001b[0mnext_s\u001b[0m\u001b[0;34m,\u001b[0m \u001b[0mr\u001b[0m\u001b[0;34m,\u001b[0m \u001b[0mdone\u001b[0m\u001b[0;34m,\u001b[0m \u001b[0minfo\u001b[0m \u001b[0;34m=\u001b[0m \u001b[0menv\u001b[0m\u001b[0;34m.\u001b[0m\u001b[0mstep\u001b[0m\u001b[0;34m(\u001b[0m\u001b[0maction\u001b[0m\u001b[0;34m)\u001b[0m\u001b[0;34m\u001b[0m\u001b[0;34m\u001b[0m\u001b[0m\n",
            "\u001b[0;32m<ipython-input-15-f422e9263c85>\u001b[0m in \u001b[0;36mget_qvalues\u001b[0;34m(self, states)\u001b[0m\n\u001b[1;32m     50\u001b[0m         \"\"\"\n\u001b[1;32m     51\u001b[0m         \u001b[0mmodel_device\u001b[0m \u001b[0;34m=\u001b[0m \u001b[0mnext\u001b[0m\u001b[0;34m(\u001b[0m\u001b[0mself\u001b[0m\u001b[0;34m.\u001b[0m\u001b[0mparameters\u001b[0m\u001b[0;34m(\u001b[0m\u001b[0;34m)\u001b[0m\u001b[0;34m)\u001b[0m\u001b[0;34m.\u001b[0m\u001b[0mdevice\u001b[0m\u001b[0;34m\u001b[0m\u001b[0;34m\u001b[0m\u001b[0m\n\u001b[0;32m---> 52\u001b[0;31m         \u001b[0mstates\u001b[0m \u001b[0;34m=\u001b[0m \u001b[0mtorch\u001b[0m\u001b[0;34m.\u001b[0m\u001b[0mtensor\u001b[0m\u001b[0;34m(\u001b[0m\u001b[0mstates\u001b[0m\u001b[0;34m,\u001b[0m \u001b[0mdevice\u001b[0m\u001b[0;34m=\u001b[0m\u001b[0mmodel_device\u001b[0m\u001b[0;34m,\u001b[0m \u001b[0mdtype\u001b[0m\u001b[0;34m=\u001b[0m\u001b[0mtorch\u001b[0m\u001b[0;34m.\u001b[0m\u001b[0mfloat\u001b[0m\u001b[0;34m)\u001b[0m\u001b[0;34m\u001b[0m\u001b[0;34m\u001b[0m\u001b[0m\n\u001b[0m\u001b[1;32m     53\u001b[0m         \u001b[0mqvalues\u001b[0m \u001b[0;34m=\u001b[0m \u001b[0mself\u001b[0m\u001b[0;34m.\u001b[0m\u001b[0mforward\u001b[0m\u001b[0;34m(\u001b[0m\u001b[0mstates\u001b[0m\u001b[0;34m)\u001b[0m\u001b[0;34m\u001b[0m\u001b[0;34m\u001b[0m\u001b[0m\n\u001b[1;32m     54\u001b[0m         \u001b[0;32mreturn\u001b[0m \u001b[0mqvalues\u001b[0m\u001b[0;34m.\u001b[0m\u001b[0mdata\u001b[0m\u001b[0;34m.\u001b[0m\u001b[0mcpu\u001b[0m\u001b[0;34m(\u001b[0m\u001b[0;34m)\u001b[0m\u001b[0;34m.\u001b[0m\u001b[0mnumpy\u001b[0m\u001b[0;34m(\u001b[0m\u001b[0;34m)\u001b[0m\u001b[0;34m\u001b[0m\u001b[0;34m\u001b[0m\u001b[0m\n",
            "\u001b[0;31mKeyboardInterrupt\u001b[0m: "
          ]
        }
      ]
    },
    {
      "cell_type": "markdown",
      "metadata": {
        "id": "LVq4Gpl1zfAb"
      },
      "source": [
        "Agent is evaluated for 1 life, not for a whole episode of 5 lives. Rewards in evaluation are also truncated. Cuz this is what environment the agent is learning in and in this way mean rewards per life can be compared with initial state value\n",
        "\n",
        "**The goal is to get 10 points in the real env**. So 3 or more points in the preprocessed one will probably be enough. You can interrupt learning then."
      ]
    },
    {
      "cell_type": "markdown",
      "metadata": {
        "id": "nZ8-9g12zfAb"
      },
      "source": [
        "Final scoring is done on a whole episode with all 5 lives."
      ]
    },
    {
      "cell_type": "code",
      "metadata": {
        "id": "L-5_KmHazfAc",
        "colab": {
          "base_uri": "https://localhost:8080/",
          "height": 229
        },
        "outputId": "520ec659-e8ad-4e32-e1a8-5a61dc72bb7e"
      },
      "source": [
        "final_score = evaluate(\n",
        "  make_env(clip_rewards=False, seed=9),\n",
        "    agent, n_games=30, greedy=True, t_max=10 * 1000\n",
        ") * n_lives\n",
        "print('final score:', final_score)\n",
        "assert final_score >= 10, 'not as cool as DQN can'\n",
        "print('Cool!')"
      ],
      "execution_count": 34,
      "outputs": [
        {
          "output_type": "stream",
          "text": [
            "final score: 2.0\n"
          ],
          "name": "stdout"
        },
        {
          "output_type": "error",
          "ename": "AssertionError",
          "evalue": "ignored",
          "traceback": [
            "\u001b[0;31m---------------------------------------------------------------------------\u001b[0m",
            "\u001b[0;31mAssertionError\u001b[0m                            Traceback (most recent call last)",
            "\u001b[0;32m<ipython-input-34-6b77b2f4a3f8>\u001b[0m in \u001b[0;36m<module>\u001b[0;34m()\u001b[0m\n\u001b[1;32m      4\u001b[0m ) * n_lives\n\u001b[1;32m      5\u001b[0m \u001b[0mprint\u001b[0m\u001b[0;34m(\u001b[0m\u001b[0;34m'final score:'\u001b[0m\u001b[0;34m,\u001b[0m \u001b[0mfinal_score\u001b[0m\u001b[0;34m)\u001b[0m\u001b[0;34m\u001b[0m\u001b[0;34m\u001b[0m\u001b[0m\n\u001b[0;32m----> 6\u001b[0;31m \u001b[0;32massert\u001b[0m \u001b[0mfinal_score\u001b[0m \u001b[0;34m>=\u001b[0m \u001b[0;36m10\u001b[0m\u001b[0;34m,\u001b[0m \u001b[0;34m'not as cool as DQN can'\u001b[0m\u001b[0;34m\u001b[0m\u001b[0;34m\u001b[0m\u001b[0m\n\u001b[0m\u001b[1;32m      7\u001b[0m \u001b[0mprint\u001b[0m\u001b[0;34m(\u001b[0m\u001b[0;34m'Cool!'\u001b[0m\u001b[0;34m)\u001b[0m\u001b[0;34m\u001b[0m\u001b[0;34m\u001b[0m\u001b[0m\n",
            "\u001b[0;31mAssertionError\u001b[0m: not as cool as DQN can"
          ]
        }
      ]
    },
    {
      "cell_type": "markdown",
      "metadata": {
        "id": "-Jc8MMCMzfAc"
      },
      "source": [
        "## How to interpret plots:\n",
        "\n",
        "This aint no supervised learning so don't expect anything to improve monotonously. \n",
        "* **TD loss** is the MSE between agent's current Q-values and target Q-values. It may slowly increase or decrease, it's ok. The \"not ok\" behavior includes going NaN or stayng at exactly zero before agent has perfect performance.\n",
        "* **grad norm** just shows the intensivity of training. Not ok is growing to values of about 100 (or maybe even 50) though it depends on network architecture.\n",
        "* **mean reward** is the expected sum of r(s,a) agent gets over the full game session. It will oscillate, but on average it should get higher over time (after a few thousand iterations...). \n",
        " * In basic q-learning implementation it takes about 40k steps to \"warm up\" agent before it starts to get better.\n",
        "* **Initial state V** is the expected discounted reward for episode in the oppinion of the agent. It should behave more smoothly than **mean reward**. It should get higher over time but sometimes can experience drawdowns because of the agaent's overestimates.\n",
        "* **buffer size** - this one is simple. It should go up and cap at max size.\n",
        "* **epsilon** - agent's willingness to explore. If you see that agent's already at 0.01 epsilon before it's average reward is above 0 - it means you need to increase epsilon. Set it back to some 0.2 - 0.5 and decrease the pace at which it goes down.\n",
        "* Smoothing of plots is done with a gaussian kernel\n",
        "\n",
        "At first your agent will lose quickly. Then it will learn to suck less and at least hit the ball a few times before it loses. Finally it will learn to actually score points.\n",
        "\n",
        "**Training will take time.** A lot of it actually. Probably you will not see any improvment during first **150k** time steps (note that by default in this notebook agent is evaluated every 5000 time steps).\n",
        "\n",
        "But hey, long training time isn't _that_ bad:\n",
        "![img](https://github.com/yandexdataschool/Practical_RL/raw/master/yet_another_week/_resource/training.png)"
      ]
    },
    {
      "cell_type": "markdown",
      "metadata": {
        "id": "G9LKhLN7zfAc"
      },
      "source": [
        "## About hyperparameters:\n",
        "\n",
        "The task has something in common with supervised learning: loss is optimized through the buffer (instead of Train dataset). But the distribution of states and actions in the buffer **is not stationary** and depends on the policy that generated it. It can even happen that the mean TD error across the buffer is very low but the performance is extremely poor (imagine the agent collecting data to the buffer always manages to avoid the ball).\n",
        "\n",
        "* Total timesteps and training time: It seems to be so huge, but actually it is normal for RL.\n",
        "\n",
        "* $\\epsilon$ decay shedule was taken from the original paper and is like traditional for epsilon-greedy policies. At the beginning of the training the agent's greedy policy is poor so many random actions should be taken.\n",
        "\n",
        "* Optimizer: In the original paper RMSProp was used (they did not have Adam in 2013) and it can work not worse than Adam. For us Adam was default and it worked.\n",
        "\n",
        "* lr: $10^{-3}$ would probably be too huge\n",
        "\n",
        "* batch size: This one can be very important: if it is too small the agent can fail to learn. Huge batch takes more time to process. If batch of size 8 can not be processed on the hardware you use take 2 (or even 4) batches of size 4, divide the loss on them by 2 (or 4) and make optimization step after both backward() calls in torch.\n",
        "\n",
        "* target network update frequency: has something in common with learning rate. Too frequent updates can lead to divergence. Too rare can lead to slow leraning. For millions of total timesteps thousands of inner steps seem ok. One iteration of target network updating is an iteration of the (this time approximate) $\\gamma$-compression that stands behind Q-learning. The more inner steps it makes the more accurate is the compression.\n",
        "* max_grad_norm - just huge enough. In torch clip_grad_norm also evaluates the norm before clipping and it can be convenient for logging."
      ]
    },
    {
      "cell_type": "markdown",
      "metadata": {
        "id": "-BjfcGgNzfAc"
      },
      "source": [
        "### Video"
      ]
    },
    {
      "cell_type": "code",
      "metadata": {
        "id": "GEGreh7gzfAc"
      },
      "source": [
        "# Record sessions\n",
        "\n",
        "import gym.wrappers\n",
        "\n",
        "with gym.wrappers.Monitor(make_env(), directory=\"videos\", force=True) as env_monitor:\n",
        "    sessions = [evaluate(env_monitor, agent, n_games=n_lives, greedy=True) for _ in range(10)]"
      ],
      "execution_count": 35,
      "outputs": []
    },
    {
      "cell_type": "code",
      "metadata": {
        "id": "oiA-xW5hzfAd",
        "colab": {
          "base_uri": "https://localhost:8080/",
          "height": 501
        },
        "outputId": "9f72e2ba-1e4d-4697-c548-6c556563c291"
      },
      "source": [
        "# Show video. This may not work in some setups. If it doesn't\n",
        "# work for you, you can download the videos and view them locally.\n",
        "\n",
        "from pathlib import Path\n",
        "from IPython.display import HTML\n",
        "\n",
        "video_names = sorted([s for s in Path('videos').iterdir() if s.suffix == '.mp4'])\n",
        "\n",
        "HTML(\"\"\"\n",
        "<video width=\"640\" height=\"480\" controls>\n",
        "  <source src=\"{}\" type=\"video/mp4\">\n",
        "</video>\n",
        "\"\"\".format(video_names[-1]))  # You can also try other indices"
      ],
      "execution_count": 36,
      "outputs": [
        {
          "output_type": "execute_result",
          "data": {
            "text/html": [
              "\n",
              "<video width=\"640\" height=\"480\" controls>\n",
              "  <source src=\"videos/openaigym.video.0.62.video000027.mp4\" type=\"video/mp4\">\n",
              "</video>\n"
            ],
            "text/plain": [
              "<IPython.core.display.HTML object>"
            ]
          },
          "metadata": {
            "tags": []
          },
          "execution_count": 36
        }
      ]
    },
    {
      "cell_type": "markdown",
      "metadata": {
        "id": "k5Z-71B4zfAd"
      },
      "source": [
        "```\n",
        "```\n",
        "```\n",
        "```\n",
        "```\n",
        "```\n",
        "\n",
        "\n",
        "\n",
        "\n",
        "\n",
        "\n",
        "## Let's have a closer look at this.\n",
        "\n",
        "If average episode score is below 200 using all 5 lives, then probably DQN has not converged fully. But anyway let's make a more complete record of an episode."
      ]
    },
    {
      "cell_type": "code",
      "metadata": {
        "id": "vdY2qcL8zfAe",
        "colab": {
          "base_uri": "https://localhost:8080/"
        },
        "outputId": "093ae37c-2fc1-4e48-da43-4dd60560cfeb"
      },
      "source": [
        "eval_env = make_env(clip_rewards=False)\n",
        "record = utils.play_and_log_episode(eval_env, agent)\n",
        "print('total reward for life:', np.sum(record['rewards']))\n",
        "for key in record:\n",
        "    print(key)"
      ],
      "execution_count": 37,
      "outputs": [
        {
          "output_type": "stream",
          "text": [
            "total reward for life: 1.0\n",
            "states\n",
            "v_mc\n",
            "v_agent\n",
            "q_spreads\n",
            "td_errors\n",
            "rewards\n",
            "episode_finished\n"
          ],
          "name": "stdout"
        }
      ]
    },
    {
      "cell_type": "code",
      "metadata": {
        "id": "kEVL52j8zfAe",
        "colab": {
          "base_uri": "https://localhost:8080/",
          "height": 350
        },
        "outputId": "18df8a55-e06b-4c08-8c6a-f8fd50ef25b2"
      },
      "source": [
        "fig = plt.figure(figsize=(5, 5))\n",
        "ax = fig.add_subplot(1, 1, 1)\n",
        "\n",
        "ax.scatter(record['v_mc'], record['v_agent'])\n",
        "ax.plot(sorted(record['v_mc']), sorted(record['v_mc']),\n",
        "       'black', linestyle='--', label='x=y')\n",
        "\n",
        "ax.grid()\n",
        "ax.legend()\n",
        "ax.set_title('State Value Estimates')\n",
        "ax.set_xlabel('Monte-Carlo')\n",
        "ax.set_ylabel('Agent')\n",
        "\n",
        "plt.show()"
      ],
      "execution_count": 38,
      "outputs": [
        {
          "output_type": "display_data",
          "data": {
            "image/png": "[encoded data removed]",
            "text/plain": [
              "<Figure size 360x360 with 1 Axes>"
            ]
          },
          "metadata": {
            "tags": [],
            "needs_background": "light"
          }
        }
      ]
    },
    {
      "cell_type": "markdown",
      "metadata": {
        "id": "9Ph93R3TzfAe"
      },
      "source": [
        "$\\hat V_{Monte-Carlo}(s_t) = \\sum_{\\tau=0}^{episode~end} \\gamma^{\\tau-t}r_t$"
      ]
    },
    {
      "cell_type": "markdown",
      "metadata": {
        "id": "orfl4NuQzfAe"
      },
      "source": [
        "Is there a big bias? It's ok, anyway it works."
      ]
    },
    {
      "cell_type": "markdown",
      "metadata": {
        "id": "rR-rDqY9zfAe"
      },
      "source": [
        "## More\n",
        "\n",
        "If you want to play with DQN a bit more, here's a list of things you can try with it:\n",
        "\n",
        "### Easy:\n",
        "* Implementing __double q-learning__ shouldn't be a problem if you've already have target networks in place.\n",
        "  * You will probably need `tf.argmax` to select best actions\n",
        "  * Here's an original [article](https://arxiv.org/abs/1509.06461)\n",
        "\n",
        "* __Dueling__ architecture is also quite straightforward if you have standard DQN.\n",
        "  * You will need to change network architecture, namely the q-values layer\n",
        "  * It must now contain two heads: V(s) and A(s,a), both dense layers\n",
        "  * You should then add them up via elemwise sum layer.\n",
        "  * Here's an [article](https://arxiv.org/pdf/1511.06581.pdf)"
      ]
    },
    {
      "cell_type": "markdown",
      "metadata": {
        "id": "qJI9K0QlzfAf"
      },
      "source": [
        "### Hard: Prioritized experience replay\n",
        "\n",
        "In this section, you're invited to implement prioritized experience replay\n",
        "\n",
        "* You will probably need to provide a custom data structure\n",
        "* Once pool.update is called, collect the pool.experience_replay.observations, actions, rewards and is_alive and store them in your data structure\n",
        "* You can now sample such transitions in proportion to the error (see [article](https://arxiv.org/abs/1511.05952)) for training.\n",
        "\n",
        "It's probably more convenient to explicitly declare inputs for \"sample observations\", \"sample actions\" and so on to plug them into q-learning.\n",
        "\n",
        "Prioritized (and even normal) experience replay should greatly reduce amount of game sessions you need to play in order to achieve good performance. \n",
        "\n",
        "While it's effect on runtime is limited for atari, more complicated envs (further in the course) will certainly benefit for it.\n",
        "\n",
        "There is even more out there - see this [overview article](https://arxiv.org/abs/1710.02298)."
      ]
    }
  ]
}